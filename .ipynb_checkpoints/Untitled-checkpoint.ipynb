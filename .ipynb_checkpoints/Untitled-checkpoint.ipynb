{
 "cells": [
  {
   "cell_type": "code",
   "execution_count": 427,
   "metadata": {},
   "outputs": [],
   "source": [
    "import pandas as pd\n",
    "import matplotlib.pyplot as plt\n",
    "import mplsoccer.pitch\n",
    "from mplsoccer.pitch import Pitch\n",
    "import seaborn as sns\n",
    "from matplotlib.markers import MarkerStyle\n",
    "from PIL import Image\n",
    "from matplotlib.backends.backend_pdf import PdfPages \n",
    "from math import pi\n",
    "import numpy as np\n",
    "import scipy.stats"
   ]
  },
  {
   "cell_type": "code",
   "execution_count": 428,
   "metadata": {},
   "outputs": [],
   "source": [
    "barca_id = 65"
   ]
  },
  {
   "cell_type": "code",
   "execution_count": 429,
   "metadata": {},
   "outputs": [],
   "source": [
    "match_id = 1492089\n",
    "opponent_id_name = {55:'valencia'}"
   ]
  },
  {
   "cell_type": "code",
   "execution_count": 430,
   "metadata": {},
   "outputs": [],
   "source": [
    "barca_book = {\"playerIdNameDictionary\":{\n",
    "    \"11119\":\"Lionel Messi\",\"30226\":\"Miralem Pjanic\",\"76202\":\"Neto\",\"80767\":\"Philippe Coutinho\",\n",
    "    \"73494\":\"Martin Braithwaite\",\"80241\":\"Antoine Griezmann\",\"89931\":\"Samuel Umtiti\",\"236511\":\"Clément Lenglet\",\n",
    "    \"80774\":\"Marc-André ter Stegen\",\"279423\":\"Frenkie de Jong\",\"368409\":\"Trincão\",\"351252\":\"Junior Firpo\",\n",
    "    \"397469\":\"Óscar Mingueza\",\"372827\":\"Riqui Puig\",\"303268\":\"Carles Aleñá\",\"44288\":\"Jordi Alba\",\n",
    "    \"44721\":\"Sergio Busquets\",\"397468\":\"Konrad De la Fuente\",\"379205\":\"Sergiño Dest\",\"384711\":\"Ronald Araujo\",\n",
    "    \"402197\":\"Pedri\",\"396147\":\"Arnau Tenas\",\"349707\":\"Matheus Fernandes\"}}\n",
    "\n",
    "\n",
    "barca_book = pd.DataFrame(barca_book)\n",
    "\n",
    "barca_player_ids = barca_book.index.tolist()\n",
    "\n",
    "barca_book['player_id'] = barca_player_ids\n",
    "\n",
    "barca_book = barca_book.rename(columns={'playerIdNameDictionary':'player_name'})\n",
    "\n",
    "barca_book['team_id'] = barca_id\n",
    "\n",
    "barca_book = barca_book.reset_index(drop=True)"
   ]
  },
  {
   "cell_type": "code",
   "execution_count": null,
   "metadata": {},
   "outputs": [],
   "source": []
  },
  {
   "cell_type": "code",
   "execution_count": 431,
   "metadata": {},
   "outputs": [],
   "source": [
    "pd.set_option('display.max_columns', 60)\n",
    "pd.set_option('display.max_rows', 50)\n",
    "\n",
    "\n",
    "df = pd.read_csv(f'/code/assets/whoscore/barcelona/vs_{opponent_id_name[55]}.csv')\n",
    "df['match_id'] = match_id"
   ]
  },
  {
   "cell_type": "code",
   "execution_count": 432,
   "metadata": {},
   "outputs": [],
   "source": [
    "df['playerId'] = df['playerId'].apply(lambda x: '{:.0f}'.format(x))\n",
    "\n",
    "df['player_id'] = df['playerId'].astype(str)"
   ]
  },
  {
   "cell_type": "code",
   "execution_count": 433,
   "metadata": {},
   "outputs": [],
   "source": [
    "df_barca = df[df['teamId']==barca_id]"
   ]
  },
  {
   "cell_type": "code",
   "execution_count": 434,
   "metadata": {},
   "outputs": [],
   "source": [
    "df_barca = df_barca.rename(\n",
    "    columns={\n",
    "        'type/displayName': 'type_name', 'type/value':'type_value', \n",
    "        'outcomeType/value':'outcome_value', 'outcomeType/displayName':'outcome_name',\n",
    "        'period/displayName':'period_name', 'period/value':'period_value',\n",
    "        }\n",
    ")\n",
    "for idx1, row1 in barca_book.iterrows():\n",
    "    for idx2, row2 in df_barca.iterrows():\n",
    "        \n",
    "        if row2['player_id'] == row1['player_id']:\n",
    "            df_barca.loc[idx2,'player_name'] = row1['player_name']\n",
    "            \n",
    "df_barca = df_barca[['id', 'eventId', 'minute', 'teamId', 'x', 'y', 'endX', 'endY',\n",
    "                     'type_name', 'outcome_name', 'isTouch', \n",
    "                     'player_id', 'player_name', 'relatedEventId', 'relatedPlayerId', 'match_id']]"
   ]
  },
  {
   "cell_type": "code",
   "execution_count": 439,
   "metadata": {},
   "outputs": [
    {
     "data": {
      "text/plain": [
       "array([nan, 'Lionel Messi', 'Sergio Busquets', 'Óscar Mingueza',\n",
       "       'Jordi Alba', 'Martin Braithwaite', 'Ronald Araujo',\n",
       "       'Philippe Coutinho', 'Sergiño Dest', 'Pedri', 'Antoine Griezmann',\n",
       "       'Marc-André ter Stegen', 'Frenkie de Jong', 'Trincão',\n",
       "       'Clément Lenglet', 'Miralem Pjanic'], dtype=object)"
      ]
     },
     "execution_count": 439,
     "metadata": {},
     "output_type": "execute_result"
    }
   ],
   "source": [
    "df_barca['player_name'].unique()"
   ]
  },
  {
   "cell_type": "code",
   "execution_count": 463,
   "metadata": {},
   "outputs": [],
   "source": [
    "player_name = 'Trincão'\n",
    "age = '20'\n",
    "play_minute = '17'\n",
    "team_name = 'FC Barcelona'\n",
    "opponent_name = 'Valencia'\n",
    "\n",
    "df_player = df_barca[(df_barca['player_name']==player_name)&(df_barca['type_name']=='Pass')]"
   ]
  },
  {
   "cell_type": "code",
   "execution_count": 464,
   "metadata": {},
   "outputs": [
    {
     "data": {
      "text/plain": [
       "id                 0\n",
       "eventId            0\n",
       "minute             0\n",
       "teamId             0\n",
       "x                  0\n",
       "y                  0\n",
       "endX               0\n",
       "endY               0\n",
       "type_name          0\n",
       "outcome_name       0\n",
       "isTouch            0\n",
       "player_id          0\n",
       "player_name        0\n",
       "relatedEventId     7\n",
       "relatedPlayerId    7\n",
       "match_id           0\n",
       "dtype: int64"
      ]
     },
     "execution_count": 464,
     "metadata": {},
     "output_type": "execute_result"
    }
   ],
   "source": [
    "df_player.isnull().sum()"
   ]
  },
  {
   "cell_type": "code",
   "execution_count": 465,
   "metadata": {},
   "outputs": [
    {
     "name": "stderr",
     "output_type": "stream",
     "text": [
      "/opt/anaconda3/lib/python3.7/site-packages/ipykernel_launcher.py:1: SettingWithCopyWarning: \n",
      "A value is trying to be set on a copy of a slice from a DataFrame.\n",
      "Try using .loc[row_indexer,col_indexer] = value instead\n",
      "\n",
      "See the caveats in the documentation: http://pandas.pydata.org/pandas-docs/stable/user_guide/indexing.html#returning-a-view-versus-a-copy\n",
      "  \"\"\"Entry point for launching an IPython kernel.\n",
      "/opt/anaconda3/lib/python3.7/site-packages/ipykernel_launcher.py:2: SettingWithCopyWarning: \n",
      "A value is trying to be set on a copy of a slice from a DataFrame.\n",
      "Try using .loc[row_indexer,col_indexer] = value instead\n",
      "\n",
      "See the caveats in the documentation: http://pandas.pydata.org/pandas-docs/stable/user_guide/indexing.html#returning-a-view-versus-a-copy\n",
      "  \n",
      "/opt/anaconda3/lib/python3.7/site-packages/ipykernel_launcher.py:3: SettingWithCopyWarning: \n",
      "A value is trying to be set on a copy of a slice from a DataFrame.\n",
      "Try using .loc[row_indexer,col_indexer] = value instead\n",
      "\n",
      "See the caveats in the documentation: http://pandas.pydata.org/pandas-docs/stable/user_guide/indexing.html#returning-a-view-versus-a-copy\n",
      "  This is separate from the ipykernel package so we can avoid doing imports until\n",
      "/opt/anaconda3/lib/python3.7/site-packages/ipykernel_launcher.py:4: SettingWithCopyWarning: \n",
      "A value is trying to be set on a copy of a slice from a DataFrame.\n",
      "Try using .loc[row_indexer,col_indexer] = value instead\n",
      "\n",
      "See the caveats in the documentation: http://pandas.pydata.org/pandas-docs/stable/user_guide/indexing.html#returning-a-view-versus-a-copy\n",
      "  after removing the cwd from sys.path.\n"
     ]
    }
   ],
   "source": [
    "df_player['x'] = df_player['x'] * 1.2\n",
    "df_player['endX'] = df_player['endX'] * 1.2\n",
    "df_player['y'] = df_player['y'] * 0.8\n",
    "df_player['endY'] = df_player['endY'] * 0.8\n",
    "\n",
    "\n",
    "attempt = len(df_player['x'])\n",
    "success = df_player[df_player['outcome_name']=='Successful']\n",
    "percent = (len(success) / attempt)*100\n",
    "pass_accuracy = round(percent,2)\n"
   ]
  },
  {
   "cell_type": "code",
   "execution_count": 467,
   "metadata": {},
   "outputs": [
    {
     "data": {
      "image/png": "[encoded data removed]",
      "text/plain": [
       "<Figure size 972x576 with 1 Axes>"
      ]
     },
     "metadata": {},
     "output_type": "display_data"
    }
   ],
   "source": [
    "\n",
    "fig, ax = plt.subplots(figsize=(13.5, 8))\n",
    "fig.set_facecolor('black')\n",
    "ax.patch.set_facecolor('black')\n",
    "\n",
    "pitch = Pitch(\n",
    "    pitch_type = 'statsbomb',\n",
    "    orientation = 'horizontal',\n",
    "#     view = 'full',\n",
    "#     line_zorder = 0.9,\n",
    "#     stripe = True,\n",
    "#     positional = True,\n",
    "#     positional_linestyle = '',\n",
    "    goal_type = 'box',\n",
    "#     shade_middle = True,\n",
    "    pitch_color = '#000000',\n",
    "    line_color = '#777777', \n",
    "    figsize=(13.5, 8),\n",
    "    constrained_layout = False,\n",
    "    tight_layout = False\n",
    ")\n",
    "pitch.draw(ax=ax)\n",
    "plt.gca().invert_xaxis()\n",
    "# plt.gca().invert_yaxis()\n",
    "\n",
    "\n",
    "\n",
    "# for i in range(len(df_player['x'])):\n",
    "#     if df_player['outcome_name'].iloc[i]=='Unsuccessful':\n",
    "#         m = MarkerStyle(\"x\")\n",
    "#         m._transform.scale(1.0, 1.0)\n",
    "#         plt.scatter(\n",
    "#             df_player['x'].iloc[i]-1.5, df_player['y'].iloc[i]-1, \n",
    "#             color='darkviolet',\n",
    "#             marker=m,\n",
    "#             s=100,\n",
    "#             linewidth=2       \n",
    "#         )\n",
    "#         x = df_player['x'].iloc[i]\n",
    "#         y = df_player['y'].iloc[i]\n",
    "#         endX = df_player['endX'].iloc[i]-x\n",
    "#         endY = df_player['endY'].iloc[i]-y\n",
    "#         passArrow = plt.Arrow(\n",
    "#             x=x, \n",
    "#             y=y,\n",
    "#             dx=endX, \n",
    "#             dy=endY,\n",
    "#             width=2,\n",
    "#             color='darkviolet',\n",
    "#             alpha=0.7\n",
    "#         )\n",
    "#         ax.add_patch(passArrow)\n",
    "        \n",
    "#     elif (df_player['endX'].iloc[i] > 100) and (20 < df_player['endY'].iloc[i] < 60):\n",
    "#         plt.scatter(\n",
    "#             df_player['x'].iloc[i], df_player['y'].iloc[i],\n",
    "#             color='orange', s=180, \n",
    "#             marker='*'\n",
    "#         )\n",
    "#         x = df_player['x'].iloc[i]\n",
    "#         y = df_player['y'].iloc[i]\n",
    "#         endX = df_player['endX'].iloc[i]-x\n",
    "#         endY = df_player['endY'].iloc[i]-y\n",
    "#         passArrow = plt.Arrow(\n",
    "#             x, y, endX, endY,\n",
    "#             width=1,\n",
    "#             color='orange'\n",
    "#         )\n",
    "#         ax.add_patch(passArrow)\n",
    "        \n",
    "    \n",
    "\n",
    "#     elif df_player['outcome_name'].iloc[i]=='Successful':\n",
    "#         plt.scatter(\n",
    "#             df_player['x'].iloc[i], df_player['y'].iloc[i], \n",
    "#             color='#777777',s=100,\n",
    "#             marker='p'\n",
    "#         )\n",
    "\n",
    "#         x = df_player['x'].iloc[i]\n",
    "#         y = df_player['y'].iloc[i]\n",
    "#         endX = df_player['endX'].iloc[i]-x\n",
    "#         endY = df_player['endY'].iloc[i]-y\n",
    "#         passArrow = plt.Arrow(\n",
    "#             x, y, endX, endY,\n",
    "#             width=1,\n",
    "#             color='#888888'\n",
    "#         )\n",
    "#         ax.add_patch(passArrow)\n",
    "        \n",
    "kde = sns.kdeplot(\n",
    "    df_player['x'],\n",
    "    df_player['y'],\n",
    "    shade=True,\n",
    "    shade_lowest=False,\n",
    "    alpha=.5,\n",
    "    n_lavels=10,\n",
    "    cmap='magma'\n",
    ")\n",
    "        \n",
    "    \n",
    "plt.text(120,-15, player_name, color='white', size=23, fontweight='1000') \n",
    "plt.text(120, -9, f'{team_name} | {age}years' , color='white', fontsize=16, alpha=1)\n",
    "plt.text(80, -9, f'| Liga20/21 | vs {opponent_name}' , color='white', fontsize=16, alpha=1)\n",
    "plt.text(120, -4, f'played until the {play_minute} minute.' , color='white', fontsize=16, alpha=1)\n",
    "\n",
    "plt.text(119, 4, f'Attempt->{attempt}' , color='white', fontsize=16, alpha=1)\n",
    "plt.text(119, 8, f'Success->{pass_accuracy}%' , color='white', fontsize=16, alpha=1)\n",
    "\n",
    "plt.text(23,78.5, '@Bucciaratimes', color='white',alpha=0.8, fontsize=13) \n",
    "plt.text(120,85, '★', color='orange',fontsize=20)\n",
    "plt.text(115,85, 'key pass', color='white',fontsize=14, alpha=.8)\n",
    "plt.text(100,85, 'x', color='darkviolet',fontsize=20)\n",
    "plt.text(96,85, 'pass miss', color='white',fontsize=14, alpha=.8)\n",
    "plt.text(49,4, 'Source: Fbref.com | Whoscored.com',color='white', fontsize=13)\n",
    "# plt.text(78,85, 'ball lost', color='white',fontsize=14, alpha=.8)\n",
    "\n",
    "\n",
    "# plt.savefig(f'/code/output/barcelona/{player_name}_valencia_passmap.png', bbox_inches='tight')\n",
    "plt.show()\n",
    "\n",
    "    "
   ]
  },
  {
   "cell_type": "code",
   "execution_count": 207,
   "metadata": {},
   "outputs": [
    {
     "data": {
      "text/plain": [
       "'Successful'"
      ]
     },
     "execution_count": 207,
     "metadata": {},
     "output_type": "execute_result"
    }
   ],
   "source": [
    "df_pedri['outcome_name'].iloc[1]"
   ]
  },
  {
   "cell_type": "code",
   "execution_count": 446,
   "metadata": {},
   "outputs": [
    {
     "data": {
      "text/plain": [
       "44"
      ]
     },
     "execution_count": 446,
     "metadata": {},
     "output_type": "execute_result"
    }
   ],
   "source": [
    "len(df_player['x'])"
   ]
  },
  {
   "cell_type": "code",
   "execution_count": null,
   "metadata": {},
   "outputs": [],
   "source": []
  }
 ],
 "metadata": {
  "kernelspec": {
   "display_name": "Python 3",
   "language": "python",
   "name": "python3"
  },
  "language_info": {
   "codemirror_mode": {
    "name": "ipython",
    "version": 3
   },
   "file_extension": ".py",
   "mimetype": "text/x-python",
   "name": "python",
   "nbconvert_exporter": "python",
   "pygments_lexer": "ipython3",
   "version": "3.7.4"
  }
 },
 "nbformat": 4,
 "nbformat_minor": 4
}
