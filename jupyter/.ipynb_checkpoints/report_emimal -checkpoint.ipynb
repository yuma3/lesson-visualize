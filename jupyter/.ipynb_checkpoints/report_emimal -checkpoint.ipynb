{
 "cells": [
  {
   "cell_type": "markdown",
   "metadata": {},
   "source": [
    "# Report: Emiliano Martinez\n",
    "\n",
    "He is a goal keeper of Argentina. I think He is key person for Argentina to win in WorldCup2022.\n",
    "So I decided to look into him till the competition. This is First Report.\n",
    "\n"
   ]
  },
  {
   "cell_type": "code",
   "execution_count": null,
   "metadata": {},
   "outputs": [],
   "source": [
    "import numpy as np\n",
    "import pandas as pd\n",
    "import requests\n",
    "from bs4 import BeautifulSoup \n",
    "import csv\n",
    "import pathlib\n",
    "\n",
    "import matplotlib.pyplot as plt\n",
    "import seaborn as sns\n",
    "%matplotlib inline\n",
    "\n"
   ]
  },
  {
   "cell_type": "markdown",
   "metadata": {},
   "source": [
    "## 1. Get Data "
   ]
  },
  {
   "cell_type": "code",
   "execution_count": null,
   "metadata": {},
   "outputs": [],
   "source": [
    "# url = 'https://fbref.com/en/players/7956236f/Emiliano-Martinez'\n",
    "# html = requests.get(url)\n",
    "# soup = BeautifulSoup(html.content, 'html.parser')\n",
    "# table = soup.select('table')\n",
    "# tbody_list = []\n",
    "# for _table in table:\n",
    "#     tbody_list.append(_table.tbody)\n",
    "    \n",
    "# seasons = tbody_list[0](attrs={'data-stat':'season'})\n",
    "# season_list = []\n",
    "# for season in seasons:\n",
    "#     season_list.append(season.text)\n",
    "    \n",
    "# games =  tbody_list[0](attrs={'data-stat':'games_gk'})\n",
    "# game_list = []\n",
    "# for game in games:\n",
    "#     game_list.append(game.text)\n",
    "    \n",
    "# starts = tbody_list[0](attrs={'data-stat':'games_starts_gk'})\n",
    "# start_list = []\n",
    "# for start in starts:\n",
    "#     start_list.append(start.text)\n",
    "\n",
    "# minutes = tbody_list[0](attrs={'data-stat':'minutes_gk'})\n",
    "# minute_list = []\n",
    "# for minute in minutes:\n",
    "#     minute_list.append(minute.text)\n",
    "\n",
    "# againsts = tbody_list[0](attrs={'data-stat':'goals_against_gk'})\n",
    "# against_list = []\n",
    "# for against in againsts:\n",
    "#     against_list.append(against.text)\n",
    "    \n",
    "# against90s = tbody_list[0](attrs={'data-stat':'goals_against_per90_gk'})\n",
    "# against90_list = []\n",
    "# for against90 in against90s:\n",
    "#     against90_list.append(against90.text)\n",
    "    \n",
    "# shots_on_tgts = tbody_list[0](attrs={'data-stat':'shots_on_target_against'})\n",
    "# shots_on_tgt_list = []\n",
    "# for shots_on_tgt in shots_on_tgts:\n",
    "#     shots_on_tgt_list.append(shots_on_tgt.text)\n",
    "    \n",
    "# saves = tbody_list[0](attrs={'data-stat':'saves'})\n",
    "# save_list = []\n",
    "# for save in saves:\n",
    "#     save_list.append(save.text)\n",
    "    \n",
    "# save_pcts = tbody_list[0](attrs={'data-stat':'save_pct'})\n",
    "# save_pct_list = []\n",
    "# for save_pct in save_pcts:\n",
    "#     save_pct_list.append(save_pct.text)\n",
    "\n",
    "# clean_sheets = tbody_list[0](attrs={'data-stat':'clean_sheets'})\n",
    "# clean_sheet_list = []\n",
    "# for clean_sheet in clean_sheets:\n",
    "#     clean_sheet_list.append(clean_sheet.text)\n",
    "    \n",
    "# clean_sheets_pcts = tbody_list[0](attrs={'data-stat':'clean_sheets_pct'})\n",
    "# clean_sheet_pct_list = []\n",
    "# for clean_sheet_pct in clean_sheets_pcts:\n",
    "#     clean_sheet_pct_list.append(clean_sheet_pct.text)\n",
    "    \n",
    "# if not pathlib.Path('../assets/argen').is_dir():\n",
    "#     pathlib.Path('../assets/argen').mkdir()\n",
    "# with open('../assets/argen/emiliano_martinez.csv', 'w') as csv_file:\n",
    "#     fieldnames = ['Season','Game','Start','Minute','Against', 'Against90', 'Sot', 'Saves', 'Save %', 'Clean-sheet', 'Clean-sheet %']\n",
    "#     writer = csv.DictWriter(csv_file,fieldnames=fieldnames)\n",
    "#     writer.writeheader()\n",
    "#     for season, game, start, minute,against,against90, sot, save, saveper,clean_sheet,clean_sheetper in zip(season_list, game_list, start_list, minute_list, against_list, against90_list, shots_on_tgt_list, save_list, save_pct_list,clean_sheet_list, clean_sheet_pct_list):\n",
    "#         writer.writerow({'Season': season, 'Game': game, 'Start':start, 'Minute': minute, 'Against': against, 'Against90':against90, 'Sot':sot,  'Saves':save, 'Save %':saveper, 'Clean-sheet':clean_sheet, 'Clean-sheet %':clean_sheetper})   "
   ]
  },
  {
   "cell_type": "markdown",
   "metadata": {},
   "source": [
    "## 2. Process Data"
   ]
  },
  {
   "cell_type": "code",
   "execution_count": null,
   "metadata": {},
   "outputs": [],
   "source": [
    "emi_stats = pd.read_csv('../assets/argen/emiliano_martinez.csv')\n",
    "emi_stats = emi_stats.fillna(0)\n",
    "\n",
    "emi_stats.loc[0, 'Season'] = '11-12'\n",
    "emi_stats.loc[1, 'Season'] = '12-13'\n",
    "emi_stats.loc[2, 'Season'] = '13-14'\n",
    "emi_stats.loc[3, 'Season'] = '14-15'\n",
    "emi_stats.loc[4, 'Season'] = '14-15'\n",
    "\n",
    "emi_stats.loc[5, 'Season'] = '15-16'\n",
    "emi_stats.loc[6, 'Season'] = '16-17'\n",
    "emi_stats.loc[7, 'Season'] = '16-17'\n",
    "emi_stats.loc[8, 'Season'] = '17-18'\n",
    "emi_stats.loc[9, 'Season'] = '18-19'\n",
    "emi_stats.loc[10, 'Season'] = '18-19'\n",
    "emi_stats.loc[11, 'Season'] = '19-20'\n",
    "emi_stats.loc[12, 'Season'] = '20-21'\n",
    "\n",
    "\n",
    "\n",
    "emi = emi_stats.drop('Season', axis=1)\n",
    "emi= emi.replace(',','.', regex=True).astype(float)\n",
    "emi['Season'] = emi_stats['Season']\n",
    "emi.iloc[5, 2] = 1136.00\n",
    "emi.iloc[9, 2] = 1620.00\n",
    "emi.columns.tolist()\n",
    "emi = emi.reindex(columns=[\n",
    " 'Season',\n",
    " 'Game',\n",
    " 'Start',\n",
    " 'Minute',\n",
    " 'Against',\n",
    " 'Against90',\n",
    " 'Sot',\n",
    " 'Saves',\n",
    " 'Save %',\n",
    " 'Clean-sheet',\n",
    " 'Clean-sheet %',\n",
    "])\n",
    "emi"
   ]
  },
  {
   "cell_type": "code",
   "execution_count": null,
   "metadata": {},
   "outputs": [],
   "source": [
    "df = pd.read_csv('/work/assets/gk/Emiliano-Martinez.csv')\n",
    "df = df.fillna(0)\n",
    "df['Season'] = emi['Season']\n",
    "df"
   ]
  },
  {
   "cell_type": "code",
   "execution_count": null,
   "metadata": {},
   "outputs": [],
   "source": [
    "emi2 = df.drop([\n",
    " 'Game',\n",
    " 'Start',\n",
    " 'Minute',\n",
    " 'Against',\n",
    " 'Against90',\n",
    " 'Sot',\n",
    " 'Saves',\n",
    " 'Save %',\n",
    " 'Clean-sheet',\n",
    " 'Clean-sheet %'], axis=1)\n",
    "emi2"
   ]
  },
  {
   "cell_type": "code",
   "execution_count": null,
   "metadata": {},
   "outputs": [],
   "source": [
    "# sns.pairplot(emi2)"
   ]
  },
  {
   "cell_type": "code",
   "execution_count": null,
   "metadata": {},
   "outputs": [],
   "source": [
    "leno = pd.read_csv('/work/assets/gk/Bernd-Leno.csv')\n",
    "leno = leno.fillna(0)"
   ]
  },
  {
   "cell_type": "code",
   "execution_count": null,
   "metadata": {},
   "outputs": [],
   "source": [
    "leno['Season'] = emi['Season']\n",
    "leno['Minute'] = leno['Minute'].replace(',','.', regex=True).astype(float)\n",
    "leno.iloc[2, 3] = 0.27\n",
    "leno.iloc[12, 3] = 0.72\n",
    "leno['Minute'] = leno['Minute'] * 1000\n",
    "leno"
   ]
  },
  {
   "cell_type": "code",
   "execution_count": null,
   "metadata": {},
   "outputs": [],
   "source": [
    "emi.set_index('Season')"
   ]
  },
  {
   "cell_type": "code",
   "execution_count": null,
   "metadata": {},
   "outputs": [],
   "source": [
    "sns.barplot(x='Season', y='Minute', data=emi)"
   ]
  },
  {
   "cell_type": "code",
   "execution_count": null,
   "metadata": {},
   "outputs": [],
   "source": [
    "plt.style.use(\"dark_background\")\n",
    "sns.set(style=\"ticks\", context=\"talk\")\n",
    "\n",
    "\n",
    "fig, axes = plt.subplots(1, 2, sharex=True, figsize=(20,6))\n",
    "fig.suptitle('The Report of Play Time untill now', fontsize=20)\n",
    "\n",
    "axes[0].set_ylim(0, 4000)\n",
    "axes[1].set_ylim(0, 4000)\n",
    "\n",
    "axes[0].set_title('emimaru',fontsize=14)\n",
    "axes[1].set_title('leno',fontsize=14)\n",
    "\n",
    "sns.barplot(ax=axes[0], x=emi['Season'], y=emi['Minute'])\n",
    "sns.barplot(ax=axes[1], x=leno['Season'], y=leno['Minute'])\n",
    "\n"
   ]
  },
  {
   "cell_type": "code",
   "execution_count": null,
   "metadata": {},
   "outputs": [],
   "source": [
    "premiar = pd.read_csv('../assets/league/premiar1920.csv')\n",
    "arsenal_stats = premiar[(premiar['HomeTeam']=='Arsenal') | (premiar['AwayTeam']=='Arsenal')]\n",
    "# arsenal_stats"
   ]
  },
  {
   "cell_type": "code",
   "execution_count": null,
   "metadata": {},
   "outputs": [],
   "source": [
    "a_stats = arsenal_stats.reset_index(drop=True)\n",
    "\n",
    "emi = a_stats.iloc[29:-1, :]\n",
    "emi = [2,0,0,0,1,2,1,0]\n",
    "emi_mean = np.mean(emi)\n",
    "emi_mean"
   ]
  },
  {
   "cell_type": "code",
   "execution_count": null,
   "metadata": {},
   "outputs": [],
   "source": [
    "leno = a_stats.iloc[:29, :]\n",
    "\n",
    "leno = [\n",
    "    0,1,3,2,2,2,1,0,1,2,\n",
    "    1,2,2,2,2,1,3,0,1,2,\n",
    "    0,1,1,2,0,0,2,0,3\n",
    "]\n",
    "leno_mean = np.mean(leno)\n",
    "leno_mean"
   ]
  },
  {
   "cell_type": "code",
   "execution_count": null,
   "metadata": {},
   "outputs": [],
   "source": [
    "arsenal_stats = arsenal_stats.iloc[:29, :]\n",
    "home = arsenal_stats[arsenal_stats['HomeTeam']=='Arsenal']\n",
    "\n",
    "h = home['FTAG']\n",
    "home_sum = h.sum()\n",
    "home_sum"
   ]
  },
  {
   "cell_type": "code",
   "execution_count": null,
   "metadata": {},
   "outputs": [],
   "source": [
    "arsenal_leno = a_stats.iloc[29:, :]\n",
    "away = arsenal_stats[arsenal_stats['AwayTeam']=='Arsenal']\n",
    "a = away['FTAG']\n",
    "away_sum = a.sum()\n",
    "away_sum"
   ]
  },
  {
   "cell_type": "code",
   "execution_count": null,
   "metadata": {},
   "outputs": [],
   "source": [
    "table_emi['Minute']"
   ]
  },
  {
   "cell_type": "code",
   "execution_count": null,
   "metadata": {},
   "outputs": [],
   "source": [
    "\n",
    "\n",
    "plt.style.use('seaborn-poster')"
   ]
  },
  {
   "cell_type": "code",
   "execution_count": null,
   "metadata": {},
   "outputs": [],
   "source": [
    "SEASON = ['11/12','12/13','13/14','14/15','15/16','16/17','17/18','18/19','19/20','20/21']\n",
    "plt.title(\"Emiliano Martinez -Decade- \")\n",
    "plt.bar(np.arange(11,21), minute_emi['Minute'],)\n",
    "plt.xticks(np.arange(11,21), SEASON, rotation=45)\n",
    "plt.ylabel(\"Minutes\")\n",
    "plt.xlabel(\"Season\")\n",
    "plt.ylim([0,4000])\n"
   ]
  },
  {
   "cell_type": "code",
   "execution_count": null,
   "metadata": {},
   "outputs": [],
   "source": [
    "leno_stats = pd.read_csv('../assets/rival/leno.csv')\n",
    "\n",
    "leno_stats = leno_stats.drop('Season', axis=1)\n",
    "leno_float = leno_stats.replace(',','.', regex=True).astype(float)\n",
    "leno_float.iloc[2, 2] = 0.27\n",
    "leno_float.iloc[12, 2] = 0.72\n",
    "leno_float['Minute'] = leno_float['Minute'] * 1000\n",
    "table_leno = leno_float\n",
    "\n",
    "_leno = table_leno.iloc[2:4, 0:].sum()\n",
    "_leno = pd.DataFrame(_leno)\n",
    "_leno11= _leno.T\n",
    "\n",
    "table_leno.iloc[2, :] = _leno11.iloc[0, :]\n",
    "minute_leno = table_leno.drop(3)\n",
    "\n",
    "SEASON = ['09-10', '10-11', '11/12','12/13','13/14','14/15','15/16','16/17','17/18','18/19','19/20','20/21']\n",
    "plt.title(\"Bernd Leno -Decade- \")\n",
    "plt.bar(np.arange(9,21), minute_leno['Minute'], label='Emi', align=\"center\", color='k')\n",
    "plt.xticks(np.arange(9,21), SEASON, rotation=45)\n",
    "plt.ylabel(\"Minutes\")\n",
    "plt.xlabel(\"Season\")\n",
    "plt.ylim([0,4000])"
   ]
  },
  {
   "cell_type": "code",
   "execution_count": null,
   "metadata": {},
   "outputs": [],
   "source": [
    "plt.style.available"
   ]
  },
  {
   "cell_type": "code",
   "execution_count": null,
   "metadata": {},
   "outputs": [],
   "source": [
    "url = 'https://fbref.com/en/players/ee8508c0/Jan-Oblak'\n",
    "html = requests.get(url)\n",
    "soup = BeautifulSoup(html.content, 'html.parser')\n",
    "table = soup.select('table')\n",
    "tbody_list = []\n",
    "for _table in table:\n",
    "    tbody_list.append(_table.tbody)\n",
    "    \n",
    "seasons = tbody_list[0](attrs={'data-stat':'season'})\n",
    "season_list = []\n",
    "for season in seasons:\n",
    "    season_list.append(season.text)\n",
    "    \n",
    "games =  tbody_list[0](attrs={'data-stat':'games_gk'})\n",
    "game_list = []\n",
    "for game in games:\n",
    "    game_list.append(game.text)\n",
    "    \n",
    "starts = tbody_list[0](attrs={'data-stat':'games_starts_gk'})\n",
    "start_list = []\n",
    "for start in starts:\n",
    "    start_list.append(start.text)\n",
    "\n",
    "minutes = tbody_list[0](attrs={'data-stat':'minutes_gk'})\n",
    "minute_list = []\n",
    "for minute in minutes:\n",
    "    minute_list.append(minute.text)\n",
    "\n",
    "againsts = tbody_list[0](attrs={'data-stat':'goals_against_gk'})\n",
    "against_list = []\n",
    "for against in againsts:\n",
    "    against_list.append(against.text)\n",
    "    \n",
    "against90s = tbody_list[0](attrs={'data-stat':'goals_against_per90_gk'})\n",
    "against90_list = []\n",
    "for against90 in against90s:\n",
    "    against90_list.append(against90.text)\n",
    "    \n",
    "shots_on_tgts = tbody_list[0](attrs={'data-stat':'shots_on_target_against'})\n",
    "shots_on_tgt_list = []\n",
    "for shots_on_tgt in shots_on_tgts:\n",
    "    shots_on_tgt_list.append(shots_on_tgt.text)\n",
    "    \n",
    "saves = tbody_list[0](attrs={'data-stat':'saves'})\n",
    "save_list = []\n",
    "for save in saves:\n",
    "    save_list.append(save.text)\n",
    "    \n",
    "save_pcts = tbody_list[0](attrs={'data-stat':'save_pct'})\n",
    "save_pct_list = []\n",
    "for save_pct in save_pcts:\n",
    "    save_pct_list.append(save_pct.text)\n",
    "\n",
    "clean_sheets = tbody_list[0](attrs={'data-stat':'clean_sheets'})\n",
    "clean_sheet_list = []\n",
    "for clean_sheet in clean_sheets:\n",
    "    clean_sheet_list.append(clean_sheet.text)\n",
    "    \n",
    "clean_sheets_pcts = tbody_list[0](attrs={'data-stat':'clean_sheets_pct'})\n",
    "clean_sheet_pct_list = []\n",
    "for clean_sheet_pct in clean_sheets_pcts:\n",
    "    clean_sheet_pct_list.append(clean_sheet_pct.text)\n",
    "    \n",
    "# if not pathlib.Path('../assets/argen').is_dir():\n",
    "#     pathlib.Path('../assets/argen').mkdir()\n",
    "with open('../assets/gk/Oblak.csv', 'w') as csv_file:\n",
    "    fieldnames = ['Season','Game','Start','Minute','Against', 'Against90', 'Sot', 'Saves', 'Save %', 'Clean-sheet', 'Clean-sheet %']\n",
    "    writer = csv.DictWriter(csv_file,fieldnames=fieldnames)\n",
    "    writer.writeheader()\n",
    "    for season, game, start, minute,against,against90, sot, save, saveper,clean_sheet,clean_sheetper in zip(season_list, game_list, start_list, minute_list, against_list, against90_list, shots_on_tgt_list, save_list, save_pct_list,clean_sheet_list, clean_sheet_pct_list):\n",
    "        writer.writerow({'Season': season, 'Game': game, 'Start':start, 'Minute': minute, 'Against': against, 'Against90':against90, 'Sot':sot,  'Saves':save, 'Save %':saveper, 'Clean-sheet':clean_sheet, 'Clean-sheet %':clean_sheetper})   "
   ]
  },
  {
   "cell_type": "code",
   "execution_count": null,
   "metadata": {},
   "outputs": [],
   "source": []
  },
  {
   "cell_type": "code",
   "execution_count": null,
   "metadata": {},
   "outputs": [],
   "source": []
  }
 ],
 "metadata": {
  "kernelspec": {
   "display_name": "Python 3",
   "language": "python",
   "name": "python3"
  },
  "language_info": {
   "codemirror_mode": {
    "name": "ipython",
    "version": 3
   },
   "file_extension": ".py",
   "mimetype": "text/x-python",
   "name": "python",
   "nbconvert_exporter": "python",
   "pygments_lexer": "ipython3",
   "version": "3.7.4"
  }
 },
 "nbformat": 4,
 "nbformat_minor": 4
}
