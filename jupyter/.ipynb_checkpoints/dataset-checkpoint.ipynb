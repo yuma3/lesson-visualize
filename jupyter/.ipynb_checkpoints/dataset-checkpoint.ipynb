{
 "cells": [
  {
   "cell_type": "markdown",
   "metadata": {},
   "source": [
    "# Datasets For Report  "
   ]
  },
  {
   "cell_type": "code",
   "execution_count": 1,
   "metadata": {},
   "outputs": [],
   "source": [
    "import requests\n",
    "from bs4 import BeautifulSoup\n",
    "from bs4 import Comment\n",
    "import csv\n",
    "import re\n",
    "import sys, getopt"
   ]
  },
  {
   "cell_type": "markdown",
   "metadata": {},
   "source": [
    "## 1. Get Team Data "
   ]
  },
  {
   "cell_type": "code",
   "execution_count": 2,
   "metadata": {},
   "outputs": [
    {
     "name": "stdout",
     "output_type": "stream",
     "text": [
      "[<td class=\"right\" csk=\"450\" data-stat=\"minutes\">450</td>, <td class=\"right\" csk=\"450\" data-stat=\"minutes\">450</td>, <td class=\"right\" csk=\"450\" data-stat=\"minutes\">450</td>, <td class=\"right\" csk=\"439\" data-stat=\"minutes\">439</td>, <td class=\"right\" csk=\"428\" data-stat=\"minutes\">428</td>, <td class=\"right\" csk=\"356\" data-stat=\"minutes\">356</td>, <td class=\"right\" csk=\"340\" data-stat=\"minutes\">340</td>, <td class=\"right\" csk=\"333\" data-stat=\"minutes\">333</td>, <td class=\"right\" csk=\"311\" data-stat=\"minutes\">311</td>, <td class=\"right\" csk=\"309\" data-stat=\"minutes\">309</td>, <td class=\"right\" csk=\"270\" data-stat=\"minutes\">270</td>, <td class=\"right\" csk=\"211\" data-stat=\"minutes\">211</td>, <td class=\"right\" csk=\"196\" data-stat=\"minutes\">196</td>, <td class=\"right\" csk=\"136\" data-stat=\"minutes\">136</td>, <td class=\"right\" csk=\"91\" data-stat=\"minutes\">91</td>, <td class=\"right\" csk=\"83\" data-stat=\"minutes\">83</td>, <td class=\"right\" csk=\"29\" data-stat=\"minutes\">29</td>, <td class=\"right\" csk=\"15\" data-stat=\"minutes\">15</td>, <td class=\"right\" csk=\"4\" data-stat=\"minutes\">4</td>, <td class=\"right iz\" data-stat=\"minutes\"></td>, <td class=\"right iz\" data-stat=\"minutes\"></td>, <td class=\"right iz\" data-stat=\"minutes\"></td>, <td class=\"right iz\" data-stat=\"minutes\"></td>, <td class=\"right iz\" data-stat=\"minutes\"></td>, <td class=\"right iz\" data-stat=\"minutes\"></td>, <td class=\"right iz\" data-stat=\"minutes\"></td>, <td class=\"right iz\" data-stat=\"minutes\"></td>]\n",
      "\n",
      "\n",
      "['450', '450', '450', '439', '428', '356', '340', '333', '311', '309', '270', '211', '196', '136', '91', '83', '29', '15', '4', '', '', '', '', '', '', '', '']\n"
     ]
    }
   ],
   "source": [
    "url = 'https://fbref.com/en/squads/206d90db/2020-2021/s10731/Barcelona-Stats-La-Liga'\n",
    "\n",
    "html = requests.get(url)\n",
    "soup = BeautifulSoup(html.content,'html.parser')\n",
    "table = soup.table\n",
    "\n",
    "\n",
    "trs = table.find('tbody')\n",
    "minutes = trs.find_all(attrs={\"data-stat\": \"minutes\"})\n",
    "print(minutes)\n",
    "\n",
    "print('\\n')\n",
    "\n",
    "min_list = []\n",
    "for minute in minutes:\n",
    "    min_list.append(minute.text)\n",
    "\n",
    "print(min_list)"
   ]
  },
  {
   "cell_type": "code",
   "execution_count": 3,
   "metadata": {},
   "outputs": [
    {
     "name": "stdout",
     "output_type": "stream",
     "text": [
      "['Lionel Messi', 'Neto', 'Gerard Piqué', 'Frenkie de Jong', 'Sergio Busquets', 'Sergi Roberto', 'Jordi Alba', 'Philippe Coutinho', 'Clément Lenglet', 'Ansu Fati', 'Antoine Griezmann', 'Pedri', 'Sergiño Dest', 'Ronald Araújo', 'Ousmane Dembélé', 'Francisco Trincão', 'Miralem Pjanić', 'Martin Braithwaite', 'Riqui Puig', 'Carles Aleñá', 'Konrad De La Fuente', 'Junior Firpo', 'Iñaki', 'Óscar Mingueza', 'Rafinha', 'Santiago Ramos', 'Arnau Tenas']\n"
     ]
    }
   ],
   "source": [
    "trs = table.find('tbody')\n",
    "names = trs.find_all(attrs={'data-stat': 'player'})\n",
    "\n",
    "name_list = []\n",
    "for name in names:\n",
    "    name_list.append(name.a.text)\n",
    "print(name_list)"
   ]
  },
  {
   "cell_type": "code",
   "execution_count": 4,
   "metadata": {},
   "outputs": [
    {
     "name": "stdout",
     "output_type": "stream",
     "text": [
      "['33', '31', '33', '23', '32', '28', '31', '28', '25', '17', '29', '17', '19', '21', '23', '20', '30', '29', '21', '22', '19', '24', '21', '21', '27', '18', '19']\n"
     ]
    }
   ],
   "source": [
    "trs = table.find('tbody')\n",
    "ages = trs.find_all(attrs={'data-stat':'age'})\n",
    "\n",
    "age_list = []\n",
    "for age in ages:\n",
    "    age_list.append(age.text[:2])\n",
    "print(age_list)"
   ]
  },
  {
   "cell_type": "code",
   "execution_count": 5,
   "metadata": {},
   "outputs": [
    {
     "name": "stdout",
     "output_type": "stream",
     "text": [
      "['2.6', '0.0', '0.1', '0.4', '0.0', '0.4', '0.1', '1.2', '0.0', '1.2', '0.9', '0.0', '0.0', '0.0', '0.0', '0.3', '0.0', '0.0', '0.0', '', '', '', '', '', '', '', '']\n"
     ]
    }
   ],
   "source": [
    "trs = table.find('tbody')\n",
    "xgs = trs.find_all(attrs={'data-stat':'xg'})\n",
    "xg_list =[]\n",
    "for xg in xgs:\n",
    "    xg_list.append(xg.text)\n",
    "print(xg_list)"
   ]
  },
  {
   "cell_type": "code",
   "execution_count": 6,
   "metadata": {},
   "outputs": [],
   "source": [
    "trs = table.find('tbody')\n",
    "xas = trs.find_all(attrs={'data-stat':'xa'})\n",
    "xa_list = []\n",
    "for xa in xas:\n",
    "    xa_list.append(xa.text)"
   ]
  },
  {
   "cell_type": "code",
   "execution_count": 7,
   "metadata": {},
   "outputs": [],
   "source": [
    "trs = table.find('tbody')\n",
    "npxgs = trs.find_all(attrs={'data-stat':'npxg'})\n",
    "npxg_list = []\n",
    "for npxg in npxgs:\n",
    "    npxg_list.append(npxg.text)"
   ]
  },
  {
   "cell_type": "code",
   "execution_count": 8,
   "metadata": {},
   "outputs": [],
   "source": [
    "trs = table.find('tbody')\n",
    "npxg_xas= trs.find_all(attrs={'data-stat':'npxg_xa_per90'})\n",
    "npxg_xa_list = []\n",
    "for npxg_xa in npxg_xas:\n",
    "    npxg_xa_list.append(npxg_xa.text)"
   ]
  },
  {
   "cell_type": "code",
   "execution_count": 9,
   "metadata": {},
   "outputs": [],
   "source": [
    "with open('../assets/barca_time10.csv', 'w') as csv_file:\n",
    "    fieldnames = ['team', 'name', 'age', 'mplay',  'xG', 'xA', 'npxG', 'npxG + xA']\n",
    "    writer = csv.DictWriter(csv_file, fieldnames=fieldnames)\n",
    "    writer.writeheader()\n",
    "    for name, age, minute, xg, xa, npxg, npxg_xa in zip(name_list, age_list, min_list, xg_list, xa_list, npxg_list, npxg_xa_list):\n",
    "        writer.writerow({'team':'Barcelona','name': name, 'age':age,  'mplay': minute, 'xG':xg, 'xA':xa, 'npxG':npxg, 'npxG + xA':npxg_xa})      "
   ]
  },
  {
   "cell_type": "markdown",
   "metadata": {},
   "source": [
    "## 2. Get Shooting Data"
   ]
  },
  {
   "cell_type": "code",
   "execution_count": 10,
   "metadata": {},
   "outputs": [],
   "source": [
    "#Htmlにコメントが入っていた場合は以下のコードを使う！！！！！！！！"
   ]
  },
  {
   "cell_type": "code",
   "execution_count": 20,
   "metadata": {},
   "outputs": [],
   "source": [
    "url ='https://fbref.com/en/squads/206d90db/2020-2021/s10731/Barcelona-Stats-La-Liga'\n",
    "res = requests.get(url)\n",
    "## The next two lines get around the issue with comments breaking the parsing.\n",
    "comm = re.compile('<!--|-->')\n",
    "soup = BeautifulSoup(comm.sub(\"\",html.text),'lxml')\n",
    "tbody = soup.findAll(\"tbody\")\n",
    "tbody_shoot = tbody[4]"
   ]
  },
  {
   "cell_type": "code",
   "execution_count": 31,
   "metadata": {
    "scrolled": false
   },
   "outputs": [],
   "source": [
    "# tbody_shoot"
   ]
  },
  {
   "cell_type": "code",
   "execution_count": 22,
   "metadata": {},
   "outputs": [
    {
     "name": "stdout",
     "output_type": "stream",
     "text": [
      "['1', '0', '0', '0', '0', '1', '0', '1', '0', '4', '0', '0', '0', '0', '0', '0', '0', '0', '0']\n"
     ]
    }
   ],
   "source": [
    "goals = tbody_shoot.find_all(attrs={'data-stat':'goals'})\n",
    "goal_list = []\n",
    "for goal in goals:\n",
    "    goal_list.append(goal.text)\n",
    "    \n",
    "print(goal_list)"
   ]
  },
  {
   "cell_type": "code",
   "execution_count": 30,
   "metadata": {},
   "outputs": [
    {
     "name": "stdout",
     "output_type": "stream",
     "text": [
      "['2.6', '0.0', '0.1', '0.4', '0.0', '0.4', '0.1', '1.2', '0.0', '1.2', '0.9', '0.0', '0.0', '0.0', '0.0', '0.3', '0.0', '0.0', '0.0']\n"
     ]
    }
   ],
   "source": [
    "shoots = tbody_shoot.find_all(attrs={'data-stat':'xg'})\n",
    "shoot_list = []\n",
    "for shoot in shoots:\n",
    "    shoot_list.append(shoot.text)\n",
    "    \n",
    "print(shoot_list)"
   ]
  },
  {
   "cell_type": "code",
   "execution_count": 19,
   "metadata": {},
   "outputs": [
    {
     "name": "stdout",
     "output_type": "stream",
     "text": [
      "['17', '0', '1', '1', '0', '3', '2', '11', '0', '8', '4', '0', '0', '0', '0', '3', '1', '0', '0']\n"
     ]
    }
   ],
   "source": [
    "shoots = tbody_shoot.find_all(attrs={'data-stat':'shots_total'})\n",
    "shoot_list = []\n",
    "for shoot in shoots:\n",
    "    shoot_list.append(shoot.text)\n",
    "    \n",
    "print(shoot_list)"
   ]
  },
  {
   "cell_type": "code",
   "execution_count": 29,
   "metadata": {},
   "outputs": [
    {
     "name": "stdout",
     "output_type": "stream",
     "text": [
      "['3.40', '0.00', '0.20', '0.21', '0.00', '0.76', '0.53', '2.97', '0.00', '2.33', '1.33', '0.00', '0.00', '0.00', '0.00', '3.25', '3.10', '0.00', '0.00']\n"
     ]
    }
   ],
   "source": [
    "shoots = tbody_shoot.find_all(attrs={'data-stat':'shots_total_per90'})\n",
    "shoot_list = []\n",
    "for shoot in shoots:\n",
    "    shoot_list.append(shoot.text)\n",
    "    \n",
    "print(shoot_list)"
   ]
  },
  {
   "cell_type": "code",
   "execution_count": 27,
   "metadata": {},
   "outputs": [
    {
     "name": "stdout",
     "output_type": "stream",
     "text": [
      "['8', '0', '0', '0', '0', '1', '2', '4', '0', '5', '0', '0', '0', '0', '0', '2', '0', '0', '0']\n"
     ]
    }
   ],
   "source": [
    "sots = tbody_shoot.find_all(attrs={'data-stat':'shots_on_target'})\n",
    "sot_list = []\n",
    "for sot in sots:\n",
    "    sot_list.append(sot.text)\n",
    "    \n",
    "print(sot_list)"
   ]
  },
  {
   "cell_type": "code",
   "execution_count": 32,
   "metadata": {},
   "outputs": [
    {
     "name": "stdout",
     "output_type": "stream",
     "text": [
      "['1.60', '0.00', '0.00', '0.00', '0.00', '0.25', '0.53', '1.08', '0.00', '1.46', '0.00', '0.00', '0.00', '0.00', '0.00', '2.17', '0.00', '0.00', '0.00']\n"
     ]
    }
   ],
   "source": [
    "sots = tbody_shoot.find_all(attrs={'data-stat':'shots_on_target_per90'})\n",
    "sot_list = []\n",
    "for sot in sots:\n",
    "    sot_list.append(sot.text)\n",
    "    \n",
    "print(sot_list)"
   ]
  },
  {
   "cell_type": "code",
   "execution_count": 35,
   "metadata": {},
   "outputs": [
    {
     "name": "stdout",
     "output_type": "stream",
     "text": [
      "['Lionel Messi', 'Neto', 'Gerard Piqué', 'Frenkie de Jong', 'Sergio Busquets', 'Sergi Roberto', 'Jordi Alba', 'Philippe Coutinho', 'Clément Lenglet', 'Ansu Fati', 'Antoine Griezmann', 'Pedri', 'Sergiño Dest', 'Ronald Araújo', 'Ousmane Dembélé', 'Francisco Trincão', 'Miralem Pjanić', 'Martin Braithwaite', 'Riqui Puig']\n"
     ]
    }
   ],
   "source": [
    "sots = tbody_shoot.find_all(attrs={'data-stat':'player'})\n",
    "sot_list = []\n",
    "for sot in sots:\n",
    "    sot_list.append(sot.text)\n",
    "    \n",
    "print(sot_list)"
   ]
  },
  {
   "cell_type": "code",
   "execution_count": 34,
   "metadata": {},
   "outputs": [],
   "source": [
    "with open('../assets/barca_shoot', 'w') as csv_file:\n",
    "    fieldnames = ['Gls', 'XG', 'TS', 'TS /90', 'SonT', 'SonT/90']\n",
    "    writer = csv.DictWriter(csv_file, fieldnames=fieldnames)\n",
    "    writer.writeheader()\n",
    "    for gl, xg, ts, ts90, sot, sot90 in zip(goal_list, shoot_list, min_list, xg_list, xa_list, npxg_list, npxg_xa_list):\n",
    "        writer.writerow({'team':'Barcelona','name': name, 'age':age,  'mplay': minute, 'xG':xg, 'xA':xa, 'npxG':npxg, 'npxG + xA':npxg_xa})      "
   ]
  },
  {
   "cell_type": "markdown",
   "metadata": {},
   "source": [
    "## 3. Get Pass Data"
   ]
  },
  {
   "cell_type": "code",
   "execution_count": 45,
   "metadata": {},
   "outputs": [],
   "source": [
    "url = 'https://fbref.com/en/squads/206d90db/2020-2021/s10731/Barcelona-Stats-La-Liga'\n",
    "res = requests.get(url)\n",
    "## The next two lines get around the issue with comments breaking the parsing.\n",
    "comm = re.compile('<!--|-->')\n",
    "soup = BeautifulSoup(comm.sub(\"\",html.text),'lxml')\n",
    "tbody = soup.findAll(\"tbody\")\n",
    "tbody_pass = tbody[5]"
   ]
  },
  {
   "cell_type": "code",
   "execution_count": 46,
   "metadata": {},
   "outputs": [
    {
     "data": {
      "text/plain": [
       "<tbody>\n",
       "<tr><th class=\"left\" csk=\"Messi, Lionel\" data-append-csv=\"Lionel-Messi\" data-stat=\"player\" scope=\"row\"><a href=\"/en/players/d70ce98e/Lionel-Messi\">Lionel Messi</a></th><td class=\"left poptip\" data-stat=\"nationality\" data-tip=\"NT\"><a href=\"/en/country/ARG/Argentina-Football\"><span style=\"white-space: nowrap\"><span class=\"f-i f-ar\">ar</span> ARG</span></a></td><td class=\"center\" csk=\"4.0\" data-stat=\"position\">FW</td><td class=\"center\" data-stat=\"age\">33-127</td><td class=\"right\" data-stat=\"minutes_90s\">5.0</td><td class=\"right group_start\" data-stat=\"passes_completed\">266</td><td class=\"right\" data-stat=\"passes\">330</td><td class=\"right\" data-stat=\"passes_pct\">80.6</td><td class=\"right\" data-stat=\"passes_total_distance\">4118</td><td class=\"right\" data-stat=\"passes_progressive_distance\">1286</td><td class=\"right group_start\" data-stat=\"passes_completed_short\">152</td><td class=\"right\" data-stat=\"passes_short\">165</td><td class=\"right\" data-stat=\"passes_pct_short\">92.1</td><td class=\"right group_start\" data-stat=\"passes_completed_medium\">83</td><td class=\"right\" data-stat=\"passes_medium\">98</td><td class=\"right\" data-stat=\"passes_pct_medium\">84.7</td><td class=\"right group_start\" data-stat=\"passes_completed_long\">20</td><td class=\"right\" data-stat=\"passes_long\">45</td><td class=\"right\" data-stat=\"passes_pct_long\">44.4</td><td class=\"right iz group_start\" data-stat=\"assists\">0</td><td class=\"right\" data-stat=\"xa\">0.6</td><td class=\"right\" data-stat=\"xa_net\">-0.6</td><td class=\"right\" data-stat=\"assisted_shots\">8</td><td class=\"right\" data-stat=\"passes_into_final_third\">35</td><td class=\"right\" data-stat=\"passes_into_penalty_area\">11</td><td class=\"right iz\" data-stat=\"crosses_into_penalty_area\">0</td><td class=\"right\" data-stat=\"progressive_passes\">38</td><td class=\"left group_start\" data-stat=\"matches\"><a href=\"/en/players/d70ce98e/matchlogs/2020-2021/passing/Lionel-Messi-Match-Logs\">Matches</a></td></tr>\n",
       "<tr><th class=\"left\" csk=\"Neto\" data-append-csv=\"Neto\" data-stat=\"player\" scope=\"row\"><a href=\"/en/players/a9dc785c/Neto\">Neto</a></th><td class=\"left poptip\" data-stat=\"nationality\" data-tip=\"NT\"><a href=\"/en/country/BRA/Brazil-Football\"><span style=\"white-space: nowrap\"><span class=\"f-i f-br\">br</span> BRA</span></a></td><td class=\"center\" csk=\"1.0\" data-stat=\"position\">GK</td><td class=\"center\" data-stat=\"age\">31-102</td><td class=\"right\" data-stat=\"minutes_90s\">5.0</td><td class=\"right group_start\" data-stat=\"passes_completed\">146</td><td class=\"right\" data-stat=\"passes\">167</td><td class=\"right\" data-stat=\"passes_pct\">87.4</td><td class=\"right\" data-stat=\"passes_total_distance\">3351</td><td class=\"right\" data-stat=\"passes_progressive_distance\">1804</td><td class=\"right group_start\" data-stat=\"passes_completed_short\">40</td><td class=\"right\" data-stat=\"passes_short\">40</td><td class=\"right\" data-stat=\"passes_pct_short\">100.0</td><td class=\"right group_start\" data-stat=\"passes_completed_medium\">67</td><td class=\"right\" data-stat=\"passes_medium\">68</td><td class=\"right\" data-stat=\"passes_pct_medium\">98.5</td><td class=\"right group_start\" data-stat=\"passes_completed_long\">37</td><td class=\"right\" data-stat=\"passes_long\">56</td><td class=\"right\" data-stat=\"passes_pct_long\">66.1</td><td class=\"right iz group_start\" data-stat=\"assists\">0</td><td class=\"right\" data-stat=\"xa\">0.0</td><td class=\"right\" data-stat=\"xa_net\">0.0</td><td class=\"right iz\" data-stat=\"assisted_shots\">0</td><td class=\"right\" data-stat=\"passes_into_final_third\">1</td><td class=\"right iz\" data-stat=\"passes_into_penalty_area\">0</td><td class=\"right iz\" data-stat=\"crosses_into_penalty_area\">0</td><td class=\"right iz\" data-stat=\"progressive_passes\">0</td><td class=\"left group_start\" data-stat=\"matches\"><a href=\"/en/players/a9dc785c/matchlogs/2020-2021/passing/Neto-Match-Logs\">Matches</a></td></tr>\n",
       "<tr><th class=\"left\" csk=\"Piqué, Gerard\" data-append-csv=\"Gerard-Pique\" data-stat=\"player\" scope=\"row\"><a href=\"/en/players/adfc9123/Gerard-Pique\">Gerard Piqué</a></th><td class=\"left poptip\" data-stat=\"nationality\" data-tip=\"NT\"><a href=\"/en/country/ESP/Spain-Football\"><span style=\"white-space: nowrap\"><span class=\"f-i f-es\">es</span> ESP</span></a></td><td class=\"center\" csk=\"2.0\" data-stat=\"position\">DF</td><td class=\"center\" data-stat=\"age\">33-270</td><td class=\"right\" data-stat=\"minutes_90s\">5.0</td><td class=\"right group_start\" data-stat=\"passes_completed\">306</td><td class=\"right\" data-stat=\"passes\">330</td><td class=\"right\" data-stat=\"passes_pct\">92.7</td><td class=\"right\" data-stat=\"passes_total_distance\">6401</td><td class=\"right\" data-stat=\"passes_progressive_distance\">1662</td><td class=\"right group_start\" data-stat=\"passes_completed_short\">92</td><td class=\"right\" data-stat=\"passes_short\">98</td><td class=\"right\" data-stat=\"passes_pct_short\">93.9</td><td class=\"right group_start\" data-stat=\"passes_completed_medium\">162</td><td class=\"right\" data-stat=\"passes_medium\">170</td><td class=\"right\" data-stat=\"passes_pct_medium\">95.3</td><td class=\"right group_start\" data-stat=\"passes_completed_long\">48</td><td class=\"right\" data-stat=\"passes_long\">56</td><td class=\"right\" data-stat=\"passes_pct_long\">85.7</td><td class=\"right iz group_start\" data-stat=\"assists\">0</td><td class=\"right\" data-stat=\"xa\">0.2</td><td class=\"right\" data-stat=\"xa_net\">-0.2</td><td class=\"right\" data-stat=\"assisted_shots\">1</td><td class=\"right\" data-stat=\"passes_into_final_third\">11</td><td class=\"right iz\" data-stat=\"passes_into_penalty_area\">0</td><td class=\"right iz\" data-stat=\"crosses_into_penalty_area\">0</td><td class=\"right\" data-stat=\"progressive_passes\">8</td><td class=\"left group_start\" data-stat=\"matches\"><a href=\"/en/players/adfc9123/matchlogs/2020-2021/passing/Gerard-Pique-Match-Logs\">Matches</a></td></tr>\n",
       "<tr><th class=\"left\" csk=\"Jong, Frenkie\" data-append-csv=\"Frenkie-de-Jong\" data-stat=\"player\" scope=\"row\"><a href=\"/en/players/1bacc518/Frenkie-de-Jong\">Frenkie de Jong</a></th><td class=\"left poptip\" data-stat=\"nationality\" data-tip=\"NT\"><a href=\"/en/country/NED/Netherlands-Football\"><span style=\"white-space: nowrap\"><span class=\"f-i f-nl\">nl</span> NED</span></a></td><td class=\"center\" csk=\"3.0\" data-stat=\"position\">MF</td><td class=\"center\" data-stat=\"age\">23-170</td><td class=\"right\" data-stat=\"minutes_90s\">4.9</td><td class=\"right group_start\" data-stat=\"passes_completed\">290</td><td class=\"right\" data-stat=\"passes\">330</td><td class=\"right\" data-stat=\"passes_pct\">87.9</td><td class=\"right\" data-stat=\"passes_total_distance\">4987</td><td class=\"right\" data-stat=\"passes_progressive_distance\">1358</td><td class=\"right group_start\" data-stat=\"passes_completed_short\">138</td><td class=\"right\" data-stat=\"passes_short\">160</td><td class=\"right\" data-stat=\"passes_pct_short\">86.3</td><td class=\"right group_start\" data-stat=\"passes_completed_medium\">111</td><td class=\"right\" data-stat=\"passes_medium\">120</td><td class=\"right\" data-stat=\"passes_pct_medium\">92.5</td><td class=\"right group_start\" data-stat=\"passes_completed_long\">32</td><td class=\"right\" data-stat=\"passes_long\">35</td><td class=\"right\" data-stat=\"passes_pct_long\">91.4</td><td class=\"right iz group_start\" data-stat=\"assists\">0</td><td class=\"right\" data-stat=\"xa\">0.4</td><td class=\"right\" data-stat=\"xa_net\">-0.4</td><td class=\"right\" data-stat=\"assisted_shots\">4</td><td class=\"right\" data-stat=\"passes_into_final_third\">28</td><td class=\"right\" data-stat=\"passes_into_penalty_area\">5</td><td class=\"right iz\" data-stat=\"crosses_into_penalty_area\">0</td><td class=\"right\" data-stat=\"progressive_passes\">24</td><td class=\"left group_start\" data-stat=\"matches\"><a href=\"/en/players/1bacc518/matchlogs/2020-2021/passing/Frenkie-de-Jong-Match-Logs\">Matches</a></td></tr>\n",
       "<tr><th class=\"left\" csk=\"Busquets, Sergio\" data-append-csv=\"Sergio-Busquets\" data-stat=\"player\" scope=\"row\"><a href=\"/en/players/5ab0ea87/Sergio-Busquets\">Sergio Busquets</a></th><td class=\"left poptip\" data-stat=\"nationality\" data-tip=\"NT\"><a href=\"/en/country/ESP/Spain-Football\"><span style=\"white-space: nowrap\"><span class=\"f-i f-es\">es</span> ESP</span></a></td><td class=\"center\" csk=\"3.0\" data-stat=\"position\">MF</td><td class=\"center\" data-stat=\"age\">32-105</td><td class=\"right\" data-stat=\"minutes_90s\">4.8</td><td class=\"right group_start\" data-stat=\"passes_completed\">340</td><td class=\"right\" data-stat=\"passes\">382</td><td class=\"right\" data-stat=\"passes_pct\">89.0</td><td class=\"right\" data-stat=\"passes_total_distance\">5869</td><td class=\"right\" data-stat=\"passes_progressive_distance\">1461</td><td class=\"right group_start\" data-stat=\"passes_completed_short\">156</td><td class=\"right\" data-stat=\"passes_short\">164</td><td class=\"right\" data-stat=\"passes_pct_short\">95.1</td><td class=\"right group_start\" data-stat=\"passes_completed_medium\">142</td><td class=\"right\" data-stat=\"passes_medium\">156</td><td class=\"right\" data-stat=\"passes_pct_medium\">91.0</td><td class=\"right group_start\" data-stat=\"passes_completed_long\">31</td><td class=\"right\" data-stat=\"passes_long\">44</td><td class=\"right\" data-stat=\"passes_pct_long\">70.5</td><td class=\"right iz group_start\" data-stat=\"assists\">0</td><td class=\"right\" data-stat=\"xa\">0.5</td><td class=\"right\" data-stat=\"xa_net\">-0.5</td><td class=\"right\" data-stat=\"assisted_shots\">4</td><td class=\"right\" data-stat=\"passes_into_final_third\">28</td><td class=\"right\" data-stat=\"passes_into_penalty_area\">3</td><td class=\"right iz\" data-stat=\"crosses_into_penalty_area\">0</td><td class=\"right\" data-stat=\"progressive_passes\">19</td><td class=\"left group_start\" data-stat=\"matches\"><a href=\"/en/players/5ab0ea87/matchlogs/2020-2021/passing/Sergio-Busquets-Match-Logs\">Matches</a></td></tr>\n",
       "<tr><th class=\"left\" csk=\"Roberto, Sergi\" data-append-csv=\"Sergi-Roberto\" data-stat=\"player\" scope=\"row\"><a href=\"/en/players/335fa267/Sergi-Roberto\">Sergi Roberto</a></th><td class=\"left poptip\" data-stat=\"nationality\" data-tip=\"NT\"><a href=\"/en/country/ESP/Spain-Football\"><span style=\"white-space: nowrap\"><span class=\"f-i f-es\">es</span> ESP</span></a></td><td class=\"center\" csk=\"2.0\" data-stat=\"position\">DF</td><td class=\"center\" data-stat=\"age\">28-265</td><td class=\"right\" data-stat=\"minutes_90s\">4.0</td><td class=\"right group_start\" data-stat=\"passes_completed\">249</td><td class=\"right\" data-stat=\"passes\">280</td><td class=\"right\" data-stat=\"passes_pct\">88.9</td><td class=\"right\" data-stat=\"passes_total_distance\">3966</td><td class=\"right\" data-stat=\"passes_progressive_distance\">1435</td><td class=\"right group_start\" data-stat=\"passes_completed_short\">131</td><td class=\"right\" data-stat=\"passes_short\">141</td><td class=\"right\" data-stat=\"passes_pct_short\">92.9</td><td class=\"right group_start\" data-stat=\"passes_completed_medium\">96</td><td class=\"right\" data-stat=\"passes_medium\">105</td><td class=\"right\" data-stat=\"passes_pct_medium\">91.4</td><td class=\"right group_start\" data-stat=\"passes_completed_long\">18</td><td class=\"right\" data-stat=\"passes_long\">23</td><td class=\"right\" data-stat=\"passes_pct_long\">78.3</td><td class=\"right iz group_start\" data-stat=\"assists\">0</td><td class=\"right\" data-stat=\"xa\">0.3</td><td class=\"right\" data-stat=\"xa_net\">-0.3</td><td class=\"right\" data-stat=\"assisted_shots\">2</td><td class=\"right\" data-stat=\"passes_into_final_third\">9</td><td class=\"right\" data-stat=\"passes_into_penalty_area\">2</td><td class=\"right iz\" data-stat=\"crosses_into_penalty_area\">0</td><td class=\"right\" data-stat=\"progressive_passes\">18</td><td class=\"left group_start\" data-stat=\"matches\"><a href=\"/en/players/335fa267/matchlogs/2020-2021/passing/Sergi-Roberto-Match-Logs\">Matches</a></td></tr>\n",
       "<tr><th class=\"left\" csk=\"Alba, Jordi\" data-append-csv=\"Jordi-Alba\" data-stat=\"player\" scope=\"row\"><a href=\"/en/players/4601e194/Jordi-Alba\">Jordi Alba</a></th><td class=\"left poptip\" data-stat=\"nationality\" data-tip=\"NT\"><a href=\"/en/country/ESP/Spain-Football\"><span style=\"white-space: nowrap\"><span class=\"f-i f-es\">es</span> ESP</span></a></td><td class=\"center\" csk=\"2.0\" data-stat=\"position\">DF</td><td class=\"center\" data-stat=\"age\">31-222</td><td class=\"right\" data-stat=\"minutes_90s\">3.8</td><td class=\"right group_start\" data-stat=\"passes_completed\">250</td><td class=\"right\" data-stat=\"passes\">295</td><td class=\"right\" data-stat=\"passes_pct\">84.7</td><td class=\"right\" data-stat=\"passes_total_distance\">3810</td><td class=\"right\" data-stat=\"passes_progressive_distance\">1480</td><td class=\"right group_start\" data-stat=\"passes_completed_short\">140</td><td class=\"right\" data-stat=\"passes_short\">154</td><td class=\"right\" data-stat=\"passes_pct_short\">90.9</td><td class=\"right group_start\" data-stat=\"passes_completed_medium\">91</td><td class=\"right\" data-stat=\"passes_medium\">106</td><td class=\"right\" data-stat=\"passes_pct_medium\">85.8</td><td class=\"right group_start\" data-stat=\"passes_completed_long\">13</td><td class=\"right\" data-stat=\"passes_long\">21</td><td class=\"right\" data-stat=\"passes_pct_long\">61.9</td><td class=\"right group_start\" data-stat=\"assists\">2</td><td class=\"right\" data-stat=\"xa\">0.7</td><td class=\"right\" data-stat=\"xa_net\">+1.3</td><td class=\"right\" data-stat=\"assisted_shots\">4</td><td class=\"right\" data-stat=\"passes_into_final_third\">19</td><td class=\"right\" data-stat=\"passes_into_penalty_area\">5</td><td class=\"right iz\" data-stat=\"crosses_into_penalty_area\">0</td><td class=\"right\" data-stat=\"progressive_passes\">27</td><td class=\"left group_start\" data-stat=\"matches\"><a href=\"/en/players/4601e194/matchlogs/2020-2021/passing/Jordi-Alba-Match-Logs\">Matches</a></td></tr>\n",
       "<tr><th class=\"left\" csk=\"Coutinho, Philippe\" data-append-csv=\"Philippe-Coutinho\" data-stat=\"player\" scope=\"row\"><a href=\"/en/players/0ef89a37/Philippe-Coutinho\">Philippe Coutinho</a></th><td class=\"left poptip\" data-stat=\"nationality\" data-tip=\"NT\"><a href=\"/en/country/BRA/Brazil-Football\"><span style=\"white-space: nowrap\"><span class=\"f-i f-br\">br</span> BRA</span></a></td><td class=\"center\" csk=\"3.0\" data-stat=\"position\">MF</td><td class=\"center\" data-stat=\"age\">28-139</td><td class=\"right\" data-stat=\"minutes_90s\">3.7</td><td class=\"right group_start\" data-stat=\"passes_completed\">195</td><td class=\"right\" data-stat=\"passes\">226</td><td class=\"right\" data-stat=\"passes_pct\">86.3</td><td class=\"right\" data-stat=\"passes_total_distance\">3082</td><td class=\"right\" data-stat=\"passes_progressive_distance\">714</td><td class=\"right group_start\" data-stat=\"passes_completed_short\">110</td><td class=\"right\" data-stat=\"passes_short\">116</td><td class=\"right\" data-stat=\"passes_pct_short\">94.8</td><td class=\"right group_start\" data-stat=\"passes_completed_medium\">68</td><td class=\"right\" data-stat=\"passes_medium\">79</td><td class=\"right\" data-stat=\"passes_pct_medium\">86.1</td><td class=\"right group_start\" data-stat=\"passes_completed_long\">16</td><td class=\"right\" data-stat=\"passes_long\">27</td><td class=\"right\" data-stat=\"passes_pct_long\">59.3</td><td class=\"right group_start\" data-stat=\"assists\">2</td><td class=\"right\" data-stat=\"xa\">0.5</td><td class=\"right\" data-stat=\"xa_net\">+1.5</td><td class=\"right\" data-stat=\"assisted_shots\">2</td><td class=\"right\" data-stat=\"passes_into_final_third\">20</td><td class=\"right\" data-stat=\"passes_into_penalty_area\">4</td><td class=\"right\" data-stat=\"crosses_into_penalty_area\">1</td><td class=\"right\" data-stat=\"progressive_passes\">23</td><td class=\"left group_start\" data-stat=\"matches\"><a href=\"/en/players/0ef89a37/matchlogs/2020-2021/passing/Philippe-Coutinho-Match-Logs\">Matches</a></td></tr>\n",
       "<tr><th class=\"left\" csk=\"Lenglet, Clément\" data-append-csv=\"Clement-Lenglet\" data-stat=\"player\" scope=\"row\"><a href=\"/en/players/4f28a6ff/Clement-Lenglet\">Clément Lenglet</a></th><td class=\"left poptip\" data-stat=\"nationality\" data-tip=\"NT\"><a href=\"/en/country/FRA/France-Football\"><span style=\"white-space: nowrap\"><span class=\"f-i f-fr\">fr</span> FRA</span></a></td><td class=\"center\" csk=\"2.0\" data-stat=\"position\">DF</td><td class=\"center\" data-stat=\"age\">25-134</td><td class=\"right\" data-stat=\"minutes_90s\">3.5</td><td class=\"right group_start\" data-stat=\"passes_completed\">216</td><td class=\"right\" data-stat=\"passes\">240</td><td class=\"right\" data-stat=\"passes_pct\">90.0</td><td class=\"right\" data-stat=\"passes_total_distance\">4452</td><td class=\"right\" data-stat=\"passes_progressive_distance\">1624</td><td class=\"right group_start\" data-stat=\"passes_completed_short\">68</td><td class=\"right\" data-stat=\"passes_short\">72</td><td class=\"right\" data-stat=\"passes_pct_short\">94.4</td><td class=\"right group_start\" data-stat=\"passes_completed_medium\">110</td><td class=\"right\" data-stat=\"passes_medium\">116</td><td class=\"right\" data-stat=\"passes_pct_medium\">94.8</td><td class=\"right group_start\" data-stat=\"passes_completed_long\">35</td><td class=\"right\" data-stat=\"passes_long\">46</td><td class=\"right\" data-stat=\"passes_pct_long\">76.1</td><td class=\"right iz group_start\" data-stat=\"assists\">0</td><td class=\"right\" data-stat=\"xa\">0.0</td><td class=\"right\" data-stat=\"xa_net\">0.0</td><td class=\"right iz\" data-stat=\"assisted_shots\">0</td><td class=\"right\" data-stat=\"passes_into_final_third\">12</td><td class=\"right\" data-stat=\"passes_into_penalty_area\">1</td><td class=\"right iz\" data-stat=\"crosses_into_penalty_area\">0</td><td class=\"right\" data-stat=\"progressive_passes\">9</td><td class=\"left group_start\" data-stat=\"matches\"><a href=\"/en/players/4f28a6ff/matchlogs/2020-2021/passing/Clement-Lenglet-Match-Logs\">Matches</a></td></tr>\n",
       "<tr><th class=\"left\" csk=\"Fati, Ansu\" data-append-csv=\"Ansu-Fati\" data-stat=\"player\" scope=\"row\"><a href=\"/en/players/0ba976e4/Ansu-Fati\">Ansu Fati</a></th><td class=\"left poptip\" data-stat=\"nationality\" data-tip=\"NT\"><a href=\"/en/country/ESP/Spain-Football\"><span style=\"white-space: nowrap\"><span class=\"f-i f-es\">es</span> ESP</span></a></td><td class=\"center\" csk=\"4.0\" data-stat=\"position\">FW</td><td class=\"center\" data-stat=\"age\">17-364</td><td class=\"right\" data-stat=\"minutes_90s\">3.4</td><td class=\"right group_start\" data-stat=\"passes_completed\">122</td><td class=\"right\" data-stat=\"passes\">149</td><td class=\"right\" data-stat=\"passes_pct\">81.9</td><td class=\"right\" data-stat=\"passes_total_distance\">1433</td><td class=\"right\" data-stat=\"passes_progressive_distance\">309</td><td class=\"right group_start\" data-stat=\"passes_completed_short\">88</td><td class=\"right\" data-stat=\"passes_short\">102</td><td class=\"right\" data-stat=\"passes_pct_short\">86.3</td><td class=\"right group_start\" data-stat=\"passes_completed_medium\">28</td><td class=\"right\" data-stat=\"passes_medium\">34</td><td class=\"right\" data-stat=\"passes_pct_medium\">82.4</td><td class=\"right iz group_start\" data-stat=\"passes_completed_long\">0</td><td class=\"right\" data-stat=\"passes_long\">1</td><td class=\"right\" data-stat=\"passes_pct_long\">0.0</td><td class=\"right iz group_start\" data-stat=\"assists\">0</td><td class=\"right\" data-stat=\"xa\">1.1</td><td class=\"right\" data-stat=\"xa_net\">-1.1</td><td class=\"right\" data-stat=\"assisted_shots\">5</td><td class=\"right\" data-stat=\"passes_into_final_third\">1</td><td class=\"right\" data-stat=\"passes_into_penalty_area\">4</td><td class=\"right iz\" data-stat=\"crosses_into_penalty_area\">0</td><td class=\"right\" data-stat=\"progressive_passes\">5</td><td class=\"left group_start\" data-stat=\"matches\"><a href=\"/en/players/0ba976e4/matchlogs/2020-2021/passing/Ansu-Fati-Match-Logs\">Matches</a></td></tr>\n",
       "<tr><th class=\"left\" csk=\"Griezmann, Antoine\" data-append-csv=\"Antoine-Griezmann\" data-stat=\"player\" scope=\"row\"><a href=\"/en/players/df69b544/Antoine-Griezmann\">Antoine Griezmann</a></th><td class=\"left poptip\" data-stat=\"nationality\" data-tip=\"NT\"><a href=\"/en/country/FRA/France-Football\"><span style=\"white-space: nowrap\"><span class=\"f-i f-fr\">fr</span> FRA</span></a></td><td class=\"center\" csk=\"4.0\" data-stat=\"position\">FW</td><td class=\"center\" data-stat=\"age\">29-222</td><td class=\"right\" data-stat=\"minutes_90s\">3.0</td><td class=\"right group_start\" data-stat=\"passes_completed\">84</td><td class=\"right\" data-stat=\"passes\">99</td><td class=\"right\" data-stat=\"passes_pct\">84.8</td><td class=\"right\" data-stat=\"passes_total_distance\">1191</td><td class=\"right\" data-stat=\"passes_progressive_distance\">252</td><td class=\"right group_start\" data-stat=\"passes_completed_short\">52</td><td class=\"right\" data-stat=\"passes_short\">54</td><td class=\"right\" data-stat=\"passes_pct_short\">96.3</td><td class=\"right group_start\" data-stat=\"passes_completed_medium\">22</td><td class=\"right\" data-stat=\"passes_medium\">28</td><td class=\"right\" data-stat=\"passes_pct_medium\">78.6</td><td class=\"right group_start\" data-stat=\"passes_completed_long\">6</td><td class=\"right\" data-stat=\"passes_long\">7</td><td class=\"right\" data-stat=\"passes_pct_long\">85.7</td><td class=\"right iz group_start\" data-stat=\"assists\">0</td><td class=\"right\" data-stat=\"xa\">0.0</td><td class=\"right\" data-stat=\"xa_net\">0.0</td><td class=\"right iz\" data-stat=\"assisted_shots\">0</td><td class=\"right\" data-stat=\"passes_into_final_third\">5</td><td class=\"right\" data-stat=\"passes_into_penalty_area\">2</td><td class=\"right iz\" data-stat=\"crosses_into_penalty_area\">0</td><td class=\"right\" data-stat=\"progressive_passes\">7</td><td class=\"left group_start\" data-stat=\"matches\"><a href=\"/en/players/df69b544/matchlogs/2020-2021/passing/Antoine-Griezmann-Match-Logs\">Matches</a></td></tr>\n",
       "<tr><th class=\"left\" csk=\"Pedri\" data-append-csv=\"Pedri\" data-stat=\"player\" scope=\"row\"><a href=\"/en/players/0d9b2d31/Pedri\">Pedri</a></th><td class=\"left poptip\" data-stat=\"nationality\" data-tip=\"YNT\"><a href=\"/en/country/ESP/Spain-Football\"><span style=\"white-space: nowrap\"><span class=\"f-i f-es\">es</span> ESP</span></a></td><td class=\"center\" csk=\"3.3\" data-stat=\"position\">MF,FW</td><td class=\"center\" data-stat=\"age\">17-339</td><td class=\"right\" data-stat=\"minutes_90s\">2.3</td><td class=\"right group_start\" data-stat=\"passes_completed\">89</td><td class=\"right\" data-stat=\"passes\">105</td><td class=\"right\" data-stat=\"passes_pct\">84.8</td><td class=\"right\" data-stat=\"passes_total_distance\">1368</td><td class=\"right\" data-stat=\"passes_progressive_distance\">255</td><td class=\"right group_start\" data-stat=\"passes_completed_short\">50</td><td class=\"right\" data-stat=\"passes_short\">57</td><td class=\"right\" data-stat=\"passes_pct_short\">87.7</td><td class=\"right group_start\" data-stat=\"passes_completed_medium\">31</td><td class=\"right\" data-stat=\"passes_medium\">37</td><td class=\"right\" data-stat=\"passes_pct_medium\">83.8</td><td class=\"right group_start\" data-stat=\"passes_completed_long\">6</td><td class=\"right\" data-stat=\"passes_long\">7</td><td class=\"right\" data-stat=\"passes_pct_long\">85.7</td><td class=\"right iz group_start\" data-stat=\"assists\">0</td><td class=\"right\" data-stat=\"xa\">0.5</td><td class=\"right\" data-stat=\"xa_net\">-0.5</td><td class=\"right\" data-stat=\"assisted_shots\">2</td><td class=\"right\" data-stat=\"passes_into_final_third\">6</td><td class=\"right\" data-stat=\"passes_into_penalty_area\">1</td><td class=\"right iz\" data-stat=\"crosses_into_penalty_area\">0</td><td class=\"right\" data-stat=\"progressive_passes\">7</td><td class=\"left group_start\" data-stat=\"matches\"><a href=\"/en/players/0d9b2d31/matchlogs/2020-2021/passing/Pedri-Match-Logs\">Matches</a></td></tr>\n",
       "<tr><th class=\"left\" csk=\"Dest, Sergiño\" data-append-csv=\"Sergino-Dest\" data-stat=\"player\" scope=\"row\"><a href=\"/en/players/5976f83e/Sergino-Dest\">Sergiño Dest</a></th><td class=\"left poptip\" data-stat=\"nationality\" data-tip=\"NT\"><a href=\"/en/country/USA/United-States-Football\"><span style=\"white-space: nowrap\"><span class=\"f-i f-us\">us</span> USA</span></a></td><td class=\"center\" csk=\"2.0\" data-stat=\"position\">DF</td><td class=\"center\" data-stat=\"age\">19-361</td><td class=\"right\" data-stat=\"minutes_90s\">2.2</td><td class=\"right group_start\" data-stat=\"passes_completed\">128</td><td class=\"right\" data-stat=\"passes\">149</td><td class=\"right\" data-stat=\"passes_pct\">85.9</td><td class=\"right\" data-stat=\"passes_total_distance\">1926</td><td class=\"right\" data-stat=\"passes_progressive_distance\">756</td><td class=\"right group_start\" data-stat=\"passes_completed_short\">80</td><td class=\"right\" data-stat=\"passes_short\">89</td><td class=\"right\" data-stat=\"passes_pct_short\">89.9</td><td class=\"right group_start\" data-stat=\"passes_completed_medium\">38</td><td class=\"right\" data-stat=\"passes_medium\">39</td><td class=\"right\" data-stat=\"passes_pct_medium\">97.4</td><td class=\"right group_start\" data-stat=\"passes_completed_long\">7</td><td class=\"right\" data-stat=\"passes_long\">12</td><td class=\"right\" data-stat=\"passes_pct_long\">58.3</td><td class=\"right iz group_start\" data-stat=\"assists\">0</td><td class=\"right\" data-stat=\"xa\">0.1</td><td class=\"right\" data-stat=\"xa_net\">-0.1</td><td class=\"right\" data-stat=\"assisted_shots\">4</td><td class=\"right\" data-stat=\"passes_into_final_third\">12</td><td class=\"right\" data-stat=\"passes_into_penalty_area\">2</td><td class=\"right iz\" data-stat=\"crosses_into_penalty_area\">0</td><td class=\"right\" data-stat=\"progressive_passes\">10</td><td class=\"left group_start\" data-stat=\"matches\"><a href=\"/en/players/5976f83e/matchlogs/2020-2021/passing/Sergino-Dest-Match-Logs\">Matches</a></td></tr>\n",
       "<tr><th class=\"left\" csk=\"Araújo, Ronald\" data-append-csv=\"Ronald-Araujo\" data-stat=\"player\" scope=\"row\"><a href=\"/en/players/2bef2bca/Ronald-Araujo\">Ronald Araújo</a></th><td class=\"left poptip\" data-stat=\"nationality\" data-tip=\"NT\"><a href=\"/en/country/URU/Uruguay-Football\"><span style=\"white-space: nowrap\"><span class=\"f-i f-uy\">uy</span> URU</span></a></td><td class=\"center\" csk=\"2.0\" data-stat=\"position\">DF</td><td class=\"center\" data-stat=\"age\">21-236</td><td class=\"right\" data-stat=\"minutes_90s\">1.5</td><td class=\"right group_start\" data-stat=\"passes_completed\">67</td><td class=\"right\" data-stat=\"passes\">76</td><td class=\"right\" data-stat=\"passes_pct\">88.2</td><td class=\"right\" data-stat=\"passes_total_distance\">1486</td><td class=\"right\" data-stat=\"passes_progressive_distance\">395</td><td class=\"right group_start\" data-stat=\"passes_completed_short\">19</td><td class=\"right\" data-stat=\"passes_short\">20</td><td class=\"right\" data-stat=\"passes_pct_short\">95.0</td><td class=\"right group_start\" data-stat=\"passes_completed_medium\">36</td><td class=\"right\" data-stat=\"passes_medium\">36</td><td class=\"right\" data-stat=\"passes_pct_medium\">100.0</td><td class=\"right group_start\" data-stat=\"passes_completed_long\">12</td><td class=\"right\" data-stat=\"passes_long\">19</td><td class=\"right\" data-stat=\"passes_pct_long\">63.2</td><td class=\"right iz group_start\" data-stat=\"assists\">0</td><td class=\"right\" data-stat=\"xa\">0.0</td><td class=\"right\" data-stat=\"xa_net\">0.0</td><td class=\"right iz\" data-stat=\"assisted_shots\">0</td><td class=\"right\" data-stat=\"passes_into_final_third\">5</td><td class=\"right iz\" data-stat=\"passes_into_penalty_area\">0</td><td class=\"right iz\" data-stat=\"crosses_into_penalty_area\">0</td><td class=\"right\" data-stat=\"progressive_passes\">2</td><td class=\"left group_start\" data-stat=\"matches\"><a href=\"/en/players/2bef2bca/matchlogs/2020-2021/passing/Ronald-Araujo-Match-Logs\">Matches</a></td></tr>\n",
       "<tr><th class=\"left\" csk=\"Dembélé, Ousmane\" data-append-csv=\"Ousmane-Dembele\" data-stat=\"player\" scope=\"row\"><a href=\"/en/players/b19db005/Ousmane-Dembele\">Ousmane Dembélé</a></th><td class=\"left poptip\" data-stat=\"nationality\" data-tip=\"NT\"><a href=\"/en/country/FRA/France-Football\"><span style=\"white-space: nowrap\"><span class=\"f-i f-fr\">fr</span> FRA</span></a></td><td class=\"center\" csk=\"4.0\" data-stat=\"position\">FW</td><td class=\"center\" data-stat=\"age\">23-167</td><td class=\"right\" data-stat=\"minutes_90s\">1.0</td><td class=\"right group_start\" data-stat=\"passes_completed\">44</td><td class=\"right\" data-stat=\"passes\">53</td><td class=\"right\" data-stat=\"passes_pct\">83.0</td><td class=\"right\" data-stat=\"passes_total_distance\">646</td><td class=\"right\" data-stat=\"passes_progressive_distance\">187</td><td class=\"right group_start\" data-stat=\"passes_completed_short\">26</td><td class=\"right\" data-stat=\"passes_short\">30</td><td class=\"right\" data-stat=\"passes_pct_short\">86.7</td><td class=\"right group_start\" data-stat=\"passes_completed_medium\">16</td><td class=\"right\" data-stat=\"passes_medium\">20</td><td class=\"right\" data-stat=\"passes_pct_medium\">80.0</td><td class=\"right group_start\" data-stat=\"passes_completed_long\">1</td><td class=\"right\" data-stat=\"passes_long\">1</td><td class=\"right\" data-stat=\"passes_pct_long\">100.0</td><td class=\"right iz group_start\" data-stat=\"assists\">0</td><td class=\"right\" data-stat=\"xa\">0.0</td><td class=\"right\" data-stat=\"xa_net\">0.0</td><td class=\"right iz\" data-stat=\"assisted_shots\">0</td><td class=\"right\" data-stat=\"passes_into_final_third\">2</td><td class=\"right\" data-stat=\"passes_into_penalty_area\">2</td><td class=\"right iz\" data-stat=\"crosses_into_penalty_area\">0</td><td class=\"right\" data-stat=\"progressive_passes\">5</td><td class=\"left group_start\" data-stat=\"matches\"><a href=\"/en/players/b19db005/matchlogs/2020-2021/passing/Ousmane-Dembele-Match-Logs\">Matches</a></td></tr>\n",
       "<tr><th class=\"left\" csk=\"Trincão, Francisco\" data-append-csv=\"Francisco-Trincao\" data-stat=\"player\" scope=\"row\"><a href=\"/en/players/77e39b04/Francisco-Trincao\">Francisco Trincão</a></th><td class=\"left poptip\" data-stat=\"nationality\" data-tip=\"NT\"><a href=\"/en/country/POR/Portugal-Football\"><span style=\"white-space: nowrap\"><span class=\"f-i f-pt\">pt</span> POR</span></a></td><td class=\"center\" csk=\"3.5\" data-stat=\"position\">FW,MF</td><td class=\"center\" data-stat=\"age\">20-305</td><td class=\"right\" data-stat=\"minutes_90s\">0.9</td><td class=\"right group_start\" data-stat=\"passes_completed\">27</td><td class=\"right\" data-stat=\"passes\">37</td><td class=\"right\" data-stat=\"passes_pct\">73.0</td><td class=\"right\" data-stat=\"passes_total_distance\">400</td><td class=\"right\" data-stat=\"passes_progressive_distance\">73</td><td class=\"right group_start\" data-stat=\"passes_completed_short\">14</td><td class=\"right\" data-stat=\"passes_short\">17</td><td class=\"right\" data-stat=\"passes_pct_short\">82.4</td><td class=\"right group_start\" data-stat=\"passes_completed_medium\">9</td><td class=\"right\" data-stat=\"passes_medium\">11</td><td class=\"right\" data-stat=\"passes_pct_medium\">81.8</td><td class=\"right group_start\" data-stat=\"passes_completed_long\">2</td><td class=\"right\" data-stat=\"passes_long\">3</td><td class=\"right\" data-stat=\"passes_pct_long\">66.7</td><td class=\"right iz group_start\" data-stat=\"assists\">0</td><td class=\"right\" data-stat=\"xa\">0.0</td><td class=\"right\" data-stat=\"xa_net\">0.0</td><td class=\"right\" data-stat=\"assisted_shots\">1</td><td class=\"right\" data-stat=\"passes_into_final_third\">1</td><td class=\"right iz\" data-stat=\"passes_into_penalty_area\">0</td><td class=\"right iz\" data-stat=\"crosses_into_penalty_area\">0</td><td class=\"right\" data-stat=\"progressive_passes\">3</td><td class=\"left group_start\" data-stat=\"matches\"><a href=\"/en/players/77e39b04/matchlogs/2020-2021/passing/Francisco-Trincao-Match-Logs\">Matches</a></td></tr>\n",
       "<tr><th class=\"left\" csk=\"Pjanić, Miralem\" data-append-csv=\"Miralem-Pjanic\" data-stat=\"player\" scope=\"row\"><a href=\"/en/players/ad6df2d5/Miralem-Pjanic\">Miralem Pjanić</a></th><td class=\"left poptip\" data-stat=\"nationality\" data-tip=\"NT\"><a href=\"/en/country/BIH/Bosnia-and-Herzegovina-Football\"><span style=\"white-space: nowrap\"><span class=\"f-i f-ba\">ba</span> BIH</span></a></td><td class=\"center\" csk=\"3.0\" data-stat=\"position\">MF</td><td class=\"center\" data-stat=\"age\">30-210</td><td class=\"right\" data-stat=\"minutes_90s\">0.3</td><td class=\"right group_start\" data-stat=\"passes_completed\">33</td><td class=\"right\" data-stat=\"passes\">37</td><td class=\"right\" data-stat=\"passes_pct\">89.2</td><td class=\"right\" data-stat=\"passes_total_distance\">530</td><td class=\"right\" data-stat=\"passes_progressive_distance\">144</td><td class=\"right group_start\" data-stat=\"passes_completed_short\">17</td><td class=\"right\" data-stat=\"passes_short\">17</td><td class=\"right\" data-stat=\"passes_pct_short\">100.0</td><td class=\"right group_start\" data-stat=\"passes_completed_medium\">13</td><td class=\"right\" data-stat=\"passes_medium\">15</td><td class=\"right\" data-stat=\"passes_pct_medium\">86.7</td><td class=\"right group_start\" data-stat=\"passes_completed_long\">3</td><td class=\"right\" data-stat=\"passes_long\">3</td><td class=\"right\" data-stat=\"passes_pct_long\">100.0</td><td class=\"right iz group_start\" data-stat=\"assists\">0</td><td class=\"right\" data-stat=\"xa\">0.0</td><td class=\"right\" data-stat=\"xa_net\">0.0</td><td class=\"right iz\" data-stat=\"assisted_shots\">0</td><td class=\"right\" data-stat=\"passes_into_final_third\">2</td><td class=\"right iz\" data-stat=\"passes_into_penalty_area\">0</td><td class=\"right iz\" data-stat=\"crosses_into_penalty_area\">0</td><td class=\"right\" data-stat=\"progressive_passes\">2</td><td class=\"left group_start\" data-stat=\"matches\"><a href=\"/en/players/ad6df2d5/matchlogs/2020-2021/passing/Miralem-Pjanic-Match-Logs\">Matches</a></td></tr>\n",
       "<tr><th class=\"left\" csk=\"Braithwaite, Martin\" data-append-csv=\"Martin-Braithwaite\" data-stat=\"player\" scope=\"row\"><a href=\"/en/players/fd771f95/Martin-Braithwaite\">Martin Braithwaite</a></th><td class=\"left poptip\" data-stat=\"nationality\" data-tip=\"NT\"><a href=\"/en/country/DEN/Denmark-Football\"><span style=\"white-space: nowrap\"><span class=\"f-i f-dk\">dk</span> DEN</span></a></td><td class=\"center\" csk=\"3.4\" data-stat=\"position\">FW,DF</td><td class=\"center\" data-stat=\"age\">29-146</td><td class=\"right\" data-stat=\"minutes_90s\">0.2</td><td class=\"right group_start\" data-stat=\"passes_completed\">4</td><td class=\"right\" data-stat=\"passes\">6</td><td class=\"right\" data-stat=\"passes_pct\">66.7</td><td class=\"right\" data-stat=\"passes_total_distance\">67</td><td class=\"right iz\" data-stat=\"passes_progressive_distance\">0</td><td class=\"right group_start\" data-stat=\"passes_completed_short\">2</td><td class=\"right\" data-stat=\"passes_short\">2</td><td class=\"right\" data-stat=\"passes_pct_short\">100.0</td><td class=\"right group_start\" data-stat=\"passes_completed_medium\">1</td><td class=\"right\" data-stat=\"passes_medium\">3</td><td class=\"right\" data-stat=\"passes_pct_medium\">33.3</td><td class=\"right group_start\" data-stat=\"passes_completed_long\">1</td><td class=\"right\" data-stat=\"passes_long\">1</td><td class=\"right\" data-stat=\"passes_pct_long\">100.0</td><td class=\"right iz group_start\" data-stat=\"assists\">0</td><td class=\"right\" data-stat=\"xa\">0.0</td><td class=\"right\" data-stat=\"xa_net\">0.0</td><td class=\"right iz\" data-stat=\"assisted_shots\">0</td><td class=\"right iz\" data-stat=\"passes_into_final_third\">0</td><td class=\"right iz\" data-stat=\"passes_into_penalty_area\">0</td><td class=\"right iz\" data-stat=\"crosses_into_penalty_area\">0</td><td class=\"right iz\" data-stat=\"progressive_passes\">0</td><td class=\"left group_start\" data-stat=\"matches\"><a href=\"/en/players/fd771f95/matchlogs/2020-2021/passing/Martin-Braithwaite-Match-Logs\">Matches</a></td></tr>\n",
       "<tr><th class=\"left\" csk=\"Puig, Riqui\" data-append-csv=\"Riqui-Puig\" data-stat=\"player\" scope=\"row\"><a href=\"/en/players/f090a37a/Riqui-Puig\">Riqui Puig</a></th><td class=\"left poptip\" data-stat=\"nationality\" data-tip=\"YNT\"><a href=\"/en/country/ESP/Spain-Football\"><span style=\"white-space: nowrap\"><span class=\"f-i f-es\">es</span> ESP</span></a></td><td class=\"center\" csk=\"2.0\" data-stat=\"position\">DF</td><td class=\"center\" data-stat=\"age\">21-077</td><td class=\"right\" data-stat=\"minutes_90s\">0.0</td><td class=\"right group_start\" data-stat=\"passes_completed\">9</td><td class=\"right\" data-stat=\"passes\">10</td><td class=\"right\" data-stat=\"passes_pct\">90.0</td><td class=\"right\" data-stat=\"passes_total_distance\">220</td><td class=\"right\" data-stat=\"passes_progressive_distance\">49</td><td class=\"right group_start\" data-stat=\"passes_completed_short\">1</td><td class=\"right\" data-stat=\"passes_short\">1</td><td class=\"right\" data-stat=\"passes_pct_short\">100.0</td><td class=\"right group_start\" data-stat=\"passes_completed_medium\">6</td><td class=\"right\" data-stat=\"passes_medium\">6</td><td class=\"right\" data-stat=\"passes_pct_medium\">100.0</td><td class=\"right group_start\" data-stat=\"passes_completed_long\">2</td><td class=\"right\" data-stat=\"passes_long\">3</td><td class=\"right\" data-stat=\"passes_pct_long\">66.7</td><td class=\"right iz group_start\" data-stat=\"assists\">0</td><td class=\"right\" data-stat=\"xa\">0.0</td><td class=\"right\" data-stat=\"xa_net\">0.0</td><td class=\"right iz\" data-stat=\"assisted_shots\">0</td><td class=\"right\" data-stat=\"passes_into_final_third\">3</td><td class=\"right\" data-stat=\"passes_into_penalty_area\">1</td><td class=\"right iz\" data-stat=\"crosses_into_penalty_area\">0</td><td class=\"right\" data-stat=\"progressive_passes\">1</td><td class=\"left group_start\" data-stat=\"matches\"><a href=\"/en/players/f090a37a/matchlogs/2020-2021/passing/Riqui-Puig-Match-Logs\">Matches</a></td></tr>\n",
       "</tbody>"
      ]
     },
     "execution_count": 46,
     "metadata": {},
     "output_type": "execute_result"
    }
   ],
   "source": [
    "tbody_pass"
   ]
  },
  {
   "cell_type": "code",
   "execution_count": 50,
   "metadata": {},
   "outputs": [
    {
     "name": "stdout",
     "output_type": "stream",
     "text": [
      "['330', '167', '330', '330', '382', '280', '295', '226', '240', '149', '99', '105', '149', '76', '53', '37', '37', '6', '10']\n"
     ]
    }
   ],
   "source": [
    "pass_comps = tbody_pass.find_all(attrs={'data-stat':'passes'})\n",
    "pcomp_list = []\n",
    "for pass_comp in pass_comps:\n",
    "    pcomp_list.append(pass_comp.text)\n",
    "print(pcomp_list)"
   ]
  },
  {
   "cell_type": "code",
   "execution_count": 44,
   "metadata": {},
   "outputs": [
    {
     "name": "stdout",
     "output_type": "stream",
     "text": [
      "['266', '146', '306', '290', '340', '249', '250', '195', '216', '122', '84', '89', '128', '67', '44', '27', '33', '4', '9']\n"
     ]
    }
   ],
   "source": [
    "pass_comps = tbody_pass.find_all(attrs={'data-stat':'passes_completed'})\n",
    "pcomp_list = []\n",
    "for pass_comp in pass_comps:\n",
    "    pcomp_list.append(pass_comp.text)\n",
    "print(pcomp_list)"
   ]
  },
  {
   "cell_type": "code",
   "execution_count": 48,
   "metadata": {},
   "outputs": [
    {
     "name": "stdout",
     "output_type": "stream",
     "text": [
      "['80.6', '87.4', '92.7', '87.9', '89.0', '88.9', '84.7', '86.3', '90.0', '81.9', '84.8', '84.8', '85.9', '88.2', '83.0', '73.0', '89.2', '66.7', '90.0']\n"
     ]
    }
   ],
   "source": [
    "pass_pct = tbody_pass.find_all(attrs={'data-stat':'passes_pct'})\n",
    "ppct_list = []\n",
    "for ppct in pass_pct:\n",
    "    ppct_list.append(ppct.text)\n",
    "print(ppct_list)"
   ]
  },
  {
   "cell_type": "code",
   "execution_count": 49,
   "metadata": {},
   "outputs": [
    {
     "name": "stdout",
     "output_type": "stream",
     "text": [
      "['4118', '3351', '6401', '4987', '5869', '3966', '3810', '3082', '4452', '1433', '1191', '1368', '1926', '1486', '646', '400', '530', '67', '220']\n"
     ]
    }
   ],
   "source": [
    "pass_comps = tbody_pass.find_all(attrs={'data-stat':'passes_total_distance'})\n",
    "pcomp_list = []\n",
    "for pass_comp in pass_comps:\n",
    "    pcomp_list.append(pass_comp.text)\n",
    "print(pcomp_list)"
   ]
  },
  {
   "cell_type": "code",
   "execution_count": 51,
   "metadata": {},
   "outputs": [
    {
     "name": "stdout",
     "output_type": "stream",
     "text": [
      "['1286', '1804', '1662', '1358', '1461', '1435', '1480', '714', '1624', '309', '252', '255', '756', '395', '187', '73', '144', '0', '49']\n"
     ]
    }
   ],
   "source": [
    "pass_comps = tbody_pass.find_all(attrs={'data-stat':'passes_progressive_distance'})\n",
    "pcomp_list = []\n",
    "for pass_comp in pass_comps:\n",
    "    pcomp_list.append(pass_comp.text)\n",
    "print(pcomp_list)"
   ]
  },
  {
   "cell_type": "code",
   "execution_count": 52,
   "metadata": {},
   "outputs": [
    {
     "name": "stdout",
     "output_type": "stream",
     "text": [
      "['45', '56', '56', '35', '44', '23', '21', '27', '46', '1', '7', '7', '12', '19', '1', '3', '3', '1', '3']\n"
     ]
    }
   ],
   "source": [
    "pass_comps = tbody_pass.find_all(attrs={'data-stat':'passes_long'})\n",
    "pcomp_list = []\n",
    "for pass_comp in pass_comps:\n",
    "    pcomp_list.append(pass_comp.text)\n",
    "print(pcomp_list)"
   ]
  },
  {
   "cell_type": "code",
   "execution_count": 53,
   "metadata": {},
   "outputs": [
    {
     "name": "stdout",
     "output_type": "stream",
     "text": [
      "['20', '37', '48', '32', '31', '18', '13', '16', '35', '0', '6', '6', '7', '12', '1', '2', '3', '1', '2']\n"
     ]
    }
   ],
   "source": [
    "pass_comps = tbody_pass.find_all(attrs={'data-stat':'passes_completed_long'})\n",
    "pcomp_list = []\n",
    "for pass_comp in pass_comps:\n",
    "    pcomp_list.append(pass_comp.text)\n",
    "print(pcomp_list)"
   ]
  },
  {
   "cell_type": "code",
   "execution_count": 57,
   "metadata": {},
   "outputs": [
    {
     "name": "stdout",
     "output_type": "stream",
     "text": [
      "['44.4', '66.1', '85.7', '91.4', '70.5', '78.3', '61.9', '59.3', '76.1', '0.0', '85.7', '85.7', '58.3', '63.2', '100.0', '66.7', '100.0', '100.0', '66.7']\n"
     ]
    }
   ],
   "source": [
    "pass_comps = tbody_pass.find_all(attrs={'data-stat':'passes_pct_long'})\n",
    "pcomp_list = []\n",
    "for pass_comp in pass_comps:\n",
    "    pcomp_list.append(pass_comp.text)\n",
    "print(pcomp_list)"
   ]
  },
  {
   "cell_type": "code",
   "execution_count": 54,
   "metadata": {},
   "outputs": [
    {
     "name": "stdout",
     "output_type": "stream",
     "text": [
      "['98', '68', '170', '120', '156', '105', '106', '79', '116', '34', '28', '37', '39', '36', '20', '11', '15', '3', '6']\n"
     ]
    }
   ],
   "source": [
    "pass_comps = tbody_pass.find_all(attrs={'data-stat':'passes_medium'})\n",
    "pcomp_list = []\n",
    "for pass_comp in pass_comps:\n",
    "    pcomp_list.append(pass_comp.text)\n",
    "print(pcomp_list)"
   ]
  },
  {
   "cell_type": "code",
   "execution_count": 56,
   "metadata": {},
   "outputs": [
    {
     "name": "stdout",
     "output_type": "stream",
     "text": [
      "['83', '67', '162', '111', '142', '96', '91', '68', '110', '28', '22', '31', '38', '36', '16', '9', '13', '1', '6']\n"
     ]
    }
   ],
   "source": [
    "pass_comps = tbody_pass.find_all(attrs={'data-stat':'passes_completed_medium'})\n",
    "pcomp_list = []\n",
    "for pass_comp in pass_comps:\n",
    "    pcomp_list.append(pass_comp.text)\n",
    "print(pcomp_list)"
   ]
  },
  {
   "cell_type": "code",
   "execution_count": 58,
   "metadata": {},
   "outputs": [
    {
     "name": "stdout",
     "output_type": "stream",
     "text": [
      "['84.7', '98.5', '95.3', '92.5', '91.0', '91.4', '85.8', '86.1', '94.8', '82.4', '78.6', '83.8', '97.4', '100.0', '80.0', '81.8', '86.7', '33.3', '100.0']\n"
     ]
    }
   ],
   "source": [
    "pass_comps = tbody_pass.find_all(attrs={'data-stat':'passes_pct_medium'})\n",
    "pcomp_list = []\n",
    "for pass_comp in pass_comps:\n",
    "    pcomp_list.append(pass_comp.text)\n",
    "print(pcomp_list)"
   ]
  },
  {
   "cell_type": "code",
   "execution_count": 66,
   "metadata": {},
   "outputs": [
    {
     "name": "stdout",
     "output_type": "stream",
     "text": [
      "['165', '40', '98', '160', '164', '141', '154', '116', '72', '102', '54', '57', '89', '20', '30', '17', '17', '2', '1']\n"
     ]
    }
   ],
   "source": [
    "pass_comps = tbody_pass.find_all(attrs={'data-stat':'passes_short'})\n",
    "pcomp_list = []\n",
    "for pass_comp in pass_comps:\n",
    "    pcomp_list.append(pass_comp.text)\n",
    "print(pcomp_list)"
   ]
  },
  {
   "cell_type": "code",
   "execution_count": 59,
   "metadata": {},
   "outputs": [
    {
     "name": "stdout",
     "output_type": "stream",
     "text": [
      "['152', '40', '92', '138', '156', '131', '140', '110', '68', '88', '52', '50', '80', '19', '26', '14', '17', '2', '1']\n"
     ]
    }
   ],
   "source": [
    "pass_comps = tbody_pass.find_all(attrs={'data-stat':'passes_completed_short'})\n",
    "pcomp_list = []\n",
    "for pass_comp in pass_comps:\n",
    "    pcomp_list.append(pass_comp.text)\n",
    "print(pcomp_list)"
   ]
  },
  {
   "cell_type": "code",
   "execution_count": 62,
   "metadata": {},
   "outputs": [
    {
     "name": "stdout",
     "output_type": "stream",
     "text": [
      "['92.1', '100.0', '93.9', '86.3', '95.1', '92.9', '90.9', '94.8', '94.4', '86.3', '96.3', '87.7', '89.9', '95.0', '86.7', '82.4', '100.0', '100.0', '100.0']\n"
     ]
    }
   ],
   "source": [
    "pass_comps = tbody_pass.find_all(attrs={'data-stat':'passes_pct_short'})\n",
    "pcomp_list = []\n",
    "for pass_comp in pass_comps:\n",
    "    pcomp_list.append(pass_comp.text)\n",
    "print(pcomp_list)"
   ]
  },
  {
   "cell_type": "code",
   "execution_count": 67,
   "metadata": {},
   "outputs": [
    {
     "name": "stdout",
     "output_type": "stream",
     "text": [
      "['8', '0', '1', '4', '4', '2', '4', '2', '0', '5', '0', '2', '4', '0', '0', '1', '0', '0', '0']\n"
     ]
    }
   ],
   "source": [
    "pass_comps = tbody_pass.find_all(attrs={'data-stat':'assisted_shots'})\n",
    "pcomp_list = []\n",
    "for pass_comp in pass_comps:\n",
    "    pcomp_list.append(pass_comp.text)\n",
    "print(pcomp_list)"
   ]
  },
  {
   "cell_type": "code",
   "execution_count": 68,
   "metadata": {},
   "outputs": [
    {
     "name": "stdout",
     "output_type": "stream",
     "text": [
      "['35', '1', '11', '28', '28', '9', '19', '20', '12', '1', '5', '6', '12', '5', '2', '1', '2', '0', '3']\n"
     ]
    }
   ],
   "source": [
    "pass_comps = tbody_pass.find_all(attrs={'data-stat':'passes_into_final_third'})\n",
    "pcomp_list = []\n",
    "for pass_comp in pass_comps:\n",
    "    pcomp_list.append(pass_comp.text)\n",
    "print(pcomp_list)"
   ]
  },
  {
   "cell_type": "code",
   "execution_count": 69,
   "metadata": {},
   "outputs": [
    {
     "name": "stdout",
     "output_type": "stream",
     "text": [
      "['11', '0', '0', '5', '3', '2', '5', '4', '1', '4', '2', '1', '2', '0', '2', '0', '0', '0', '1']\n"
     ]
    }
   ],
   "source": [
    "pass_comps = tbody_pass.find_all(attrs={'data-stat':'passes_into_penalty_area'})\n",
    "pcomp_list = []\n",
    "for pass_comp in pass_comps:\n",
    "    pcomp_list.append(pass_comp.text)\n",
    "print(pcomp_list)"
   ]
  },
  {
   "cell_type": "code",
   "execution_count": 71,
   "metadata": {},
   "outputs": [
    {
     "name": "stdout",
     "output_type": "stream",
     "text": [
      "['0', '0', '0', '0', '0', '0', '0', '1', '0', '0', '0', '0', '0', '0', '0', '0', '0', '0', '0']\n"
     ]
    }
   ],
   "source": [
    "pass_comps = tbody_pass.find_all(attrs={'data-stat':'crosses_into_penalty_area'})\n",
    "pcomp_list = []\n",
    "for pass_comp in pass_comps:\n",
    "    pcomp_list.append(pass_comp.text)\n",
    "print(pcomp_list)"
   ]
  },
  {
   "cell_type": "code",
   "execution_count": 72,
   "metadata": {},
   "outputs": [
    {
     "name": "stdout",
     "output_type": "stream",
     "text": [
      "['38', '0', '8', '24', '19', '18', '27', '23', '9', '5', '7', '7', '10', '2', '5', '3', '2', '0', '1']\n"
     ]
    }
   ],
   "source": [
    "pass_comps = tbody_pass.find_all(attrs={'data-stat':'progressive_passes'})\n",
    "pcomp_list = []\n",
    "for pass_comp in pass_comps:\n",
    "    pcomp_list.append(pass_comp.text)\n",
    "print(pcomp_list)"
   ]
  },
  {
   "cell_type": "code",
   "execution_count": 80,
   "metadata": {},
   "outputs": [],
   "source": [
    "with open('../assets/barca_pass.csv', 'w') as csv_file:\n",
    "    fieldname = ['Cmp', 'Att', 'cmp%', 'tdist', 'prdist', 'scmp', 'satt', 'scmp%', 'mcmp', 'matt', 'mcmp%', 'lcmp', 'latt', 'lcmp%', 'kp', 'final', 'ppa', 'crspa', 'prg']\n",
    "    writer = csv.DictWriter(csv_file, fieldnames=fieldnames)\n",
    "    writer.writeheader()\n",
    "    for gl, xg, ts, ts90, sot, sot90 in zip(goal_list, shoot_list, min_list, xg_list, xa_list, npxg_list, npxg_xa_list):\n",
    "        writer.writerow({'team':'Barcelona','name': name, 'age':age,  'mplay': minute, 'xG':xg, 'xA':xa, 'npxG':npxg, 'npxG + xA':npxg_xa})      "
   ]
  },
  {
   "cell_type": "markdown",
   "metadata": {},
   "source": [
    "### 3-2 . Get Pass Type"
   ]
  },
  {
   "cell_type": "code",
   "execution_count": 73,
   "metadata": {},
   "outputs": [],
   "source": [
    "url = 'https://fbref.com/en/squads/206d90db/2020-2021/s10731/Barcelona-Stats-La-Liga'\n",
    "res = requests.get(url)\n",
    "## The next two lines get around the issue with comments breaking the parsing.\n",
    "comm = re.compile('<!--|-->')\n",
    "soup = BeautifulSoup(comm.sub(\"\",html.text),'lxml')\n",
    "tbody = soup.findAll(\"tbody\")\n",
    "tbody_ptype = tbody[6]"
   ]
  },
  {
   "cell_type": "code",
   "execution_count": 74,
   "metadata": {},
   "outputs": [
    {
     "data": {
      "text/plain": [
       "<tbody>\n",
       "<tr><th class=\"left\" csk=\"Messi, Lionel\" data-append-csv=\"Lionel-Messi\" data-stat=\"player\" scope=\"row\"><a href=\"/en/players/d70ce98e/Lionel-Messi\">Lionel Messi</a></th><td class=\"left poptip\" data-stat=\"nationality\" data-tip=\"NT\"><a href=\"/en/country/ARG/Argentina-Football\"><span style=\"white-space: nowrap\"><span class=\"f-i f-ar\">ar</span> ARG</span></a></td><td class=\"center\" csk=\"4.0\" data-stat=\"position\">FW</td><td class=\"center\" data-stat=\"age\">33-127</td><td class=\"right\" data-stat=\"minutes_90s\">5.0</td><td class=\"right\" data-stat=\"passes\">330</td><td class=\"right group_start\" data-stat=\"passes_live\">285</td><td class=\"right\" data-stat=\"passes_dead\">45</td><td class=\"right\" data-stat=\"passes_free_kicks\">18</td><td class=\"right\" data-stat=\"through_balls\">2</td><td class=\"right\" data-stat=\"passes_pressure\">50</td><td class=\"right\" data-stat=\"passes_switches\">9</td><td class=\"right\" data-stat=\"crosses\">9</td><td class=\"right\" data-stat=\"corner_kicks\">21</td><td class=\"right group_start\" data-stat=\"corner_kicks_in\">8</td><td class=\"right\" data-stat=\"corner_kicks_out\">5</td><td class=\"right iz\" data-stat=\"corner_kicks_straight\">0</td><td class=\"right group_start\" data-stat=\"passes_ground\">258</td><td class=\"right\" data-stat=\"passes_low\">26</td><td class=\"right\" data-stat=\"passes_high\">46</td><td class=\"right group_start\" data-stat=\"passes_left_foot\">297</td><td class=\"right\" data-stat=\"passes_right_foot\">26</td><td class=\"right\" data-stat=\"passes_head\">3</td><td class=\"right iz\" data-stat=\"throw_ins\">0</td><td class=\"right\" data-stat=\"passes_other_body\">1</td><td class=\"right group_start\" data-stat=\"passes_completed\">266</td><td class=\"right\" data-stat=\"passes_offsides\">3</td><td class=\"right\" data-stat=\"passes_oob\">5</td><td class=\"right\" data-stat=\"passes_intercepted\">2</td><td class=\"right\" data-stat=\"passes_blocked\">14</td><td class=\"left group_start\" data-stat=\"matches\"><a href=\"/en/players/d70ce98e/matchlogs/2020-2021/passing_types/Lionel-Messi-Match-Logs\">Matches</a></td></tr>\n",
       "<tr><th class=\"left\" csk=\"Neto\" data-append-csv=\"Neto\" data-stat=\"player\" scope=\"row\"><a href=\"/en/players/a9dc785c/Neto\">Neto</a></th><td class=\"left poptip\" data-stat=\"nationality\" data-tip=\"NT\"><a href=\"/en/country/BRA/Brazil-Football\"><span style=\"white-space: nowrap\"><span class=\"f-i f-br\">br</span> BRA</span></a></td><td class=\"center\" csk=\"1.0\" data-stat=\"position\">GK</td><td class=\"center\" data-stat=\"age\">31-102</td><td class=\"right\" data-stat=\"minutes_90s\">5.0</td><td class=\"right\" data-stat=\"passes\">167</td><td class=\"right group_start\" data-stat=\"passes_live\">123</td><td class=\"right\" data-stat=\"passes_dead\">44</td><td class=\"right\" data-stat=\"passes_free_kicks\">3</td><td class=\"right iz\" data-stat=\"through_balls\">0</td><td class=\"right\" data-stat=\"passes_pressure\">15</td><td class=\"right\" data-stat=\"passes_switches\">1</td><td class=\"right iz\" data-stat=\"crosses\">0</td><td class=\"right iz\" data-stat=\"corner_kicks\">0</td><td class=\"right iz group_start\" data-stat=\"corner_kicks_in\">0</td><td class=\"right iz\" data-stat=\"corner_kicks_out\">0</td><td class=\"right iz\" data-stat=\"corner_kicks_straight\">0</td><td class=\"right group_start\" data-stat=\"passes_ground\">117</td><td class=\"right\" data-stat=\"passes_low\">8</td><td class=\"right\" data-stat=\"passes_high\">42</td><td class=\"right group_start\" data-stat=\"passes_left_foot\">18</td><td class=\"right\" data-stat=\"passes_right_foot\">124</td><td class=\"right iz\" data-stat=\"passes_head\">0</td><td class=\"right iz\" data-stat=\"throw_ins\">0</td><td class=\"right\" data-stat=\"passes_other_body\">25</td><td class=\"right group_start\" data-stat=\"passes_completed\">146</td><td class=\"right iz\" data-stat=\"passes_offsides\">0</td><td class=\"right\" data-stat=\"passes_oob\">1</td><td class=\"right iz\" data-stat=\"passes_intercepted\">0</td><td class=\"right\" data-stat=\"passes_blocked\">1</td><td class=\"left group_start\" data-stat=\"matches\"><a href=\"/en/players/a9dc785c/matchlogs/2020-2021/passing_types/Neto-Match-Logs\">Matches</a></td></tr>\n",
       "<tr><th class=\"left\" csk=\"Piqué, Gerard\" data-append-csv=\"Gerard-Pique\" data-stat=\"player\" scope=\"row\"><a href=\"/en/players/adfc9123/Gerard-Pique\">Gerard Piqué</a></th><td class=\"left poptip\" data-stat=\"nationality\" data-tip=\"NT\"><a href=\"/en/country/ESP/Spain-Football\"><span style=\"white-space: nowrap\"><span class=\"f-i f-es\">es</span> ESP</span></a></td><td class=\"center\" csk=\"2.0\" data-stat=\"position\">DF</td><td class=\"center\" data-stat=\"age\">33-270</td><td class=\"right\" data-stat=\"minutes_90s\">5.0</td><td class=\"right\" data-stat=\"passes\">330</td><td class=\"right group_start\" data-stat=\"passes_live\">317</td><td class=\"right\" data-stat=\"passes_dead\">13</td><td class=\"right\" data-stat=\"passes_free_kicks\">12</td><td class=\"right iz\" data-stat=\"through_balls\">0</td><td class=\"right\" data-stat=\"passes_pressure\">22</td><td class=\"right\" data-stat=\"passes_switches\">13</td><td class=\"right iz\" data-stat=\"crosses\">0</td><td class=\"right iz\" data-stat=\"corner_kicks\">0</td><td class=\"right iz group_start\" data-stat=\"corner_kicks_in\">0</td><td class=\"right iz\" data-stat=\"corner_kicks_out\">0</td><td class=\"right iz\" data-stat=\"corner_kicks_straight\">0</td><td class=\"right group_start\" data-stat=\"passes_ground\">265</td><td class=\"right\" data-stat=\"passes_low\">26</td><td class=\"right\" data-stat=\"passes_high\">39</td><td class=\"right group_start\" data-stat=\"passes_left_foot\">12</td><td class=\"right\" data-stat=\"passes_right_foot\">288</td><td class=\"right\" data-stat=\"passes_head\">21</td><td class=\"right\" data-stat=\"throw_ins\">1</td><td class=\"right\" data-stat=\"passes_other_body\">4</td><td class=\"right group_start\" data-stat=\"passes_completed\">306</td><td class=\"right iz\" data-stat=\"passes_offsides\">0</td><td class=\"right\" data-stat=\"passes_oob\">5</td><td class=\"right\" data-stat=\"passes_intercepted\">1</td><td class=\"right\" data-stat=\"passes_blocked\">2</td><td class=\"left group_start\" data-stat=\"matches\"><a href=\"/en/players/adfc9123/matchlogs/2020-2021/passing_types/Gerard-Pique-Match-Logs\">Matches</a></td></tr>\n",
       "<tr><th class=\"left\" csk=\"Jong, Frenkie\" data-append-csv=\"Frenkie-de-Jong\" data-stat=\"player\" scope=\"row\"><a href=\"/en/players/1bacc518/Frenkie-de-Jong\">Frenkie de Jong</a></th><td class=\"left poptip\" data-stat=\"nationality\" data-tip=\"NT\"><a href=\"/en/country/NED/Netherlands-Football\"><span style=\"white-space: nowrap\"><span class=\"f-i f-nl\">nl</span> NED</span></a></td><td class=\"center\" csk=\"3.0\" data-stat=\"position\">MF</td><td class=\"center\" data-stat=\"age\">23-170</td><td class=\"right\" data-stat=\"minutes_90s\">4.9</td><td class=\"right\" data-stat=\"passes\">330</td><td class=\"right group_start\" data-stat=\"passes_live\">326</td><td class=\"right\" data-stat=\"passes_dead\">4</td><td class=\"right\" data-stat=\"passes_free_kicks\">1</td><td class=\"right\" data-stat=\"through_balls\">1</td><td class=\"right\" data-stat=\"passes_pressure\">47</td><td class=\"right\" data-stat=\"passes_switches\">9</td><td class=\"right iz\" data-stat=\"crosses\">0</td><td class=\"right iz\" data-stat=\"corner_kicks\">0</td><td class=\"right iz group_start\" data-stat=\"corner_kicks_in\">0</td><td class=\"right iz\" data-stat=\"corner_kicks_out\">0</td><td class=\"right iz\" data-stat=\"corner_kicks_straight\">0</td><td class=\"right group_start\" data-stat=\"passes_ground\">277</td><td class=\"right\" data-stat=\"passes_low\">31</td><td class=\"right\" data-stat=\"passes_high\">22</td><td class=\"right group_start\" data-stat=\"passes_left_foot\">21</td><td class=\"right\" data-stat=\"passes_right_foot\">289</td><td class=\"right\" data-stat=\"passes_head\">10</td><td class=\"right\" data-stat=\"throw_ins\">3</td><td class=\"right\" data-stat=\"passes_other_body\">2</td><td class=\"right group_start\" data-stat=\"passes_completed\">290</td><td class=\"right\" data-stat=\"passes_offsides\">1</td><td class=\"right\" data-stat=\"passes_oob\">4</td><td class=\"right\" data-stat=\"passes_intercepted\">6</td><td class=\"right\" data-stat=\"passes_blocked\">6</td><td class=\"left group_start\" data-stat=\"matches\"><a href=\"/en/players/1bacc518/matchlogs/2020-2021/passing_types/Frenkie-de-Jong-Match-Logs\">Matches</a></td></tr>\n",
       "<tr><th class=\"left\" csk=\"Busquets, Sergio\" data-append-csv=\"Sergio-Busquets\" data-stat=\"player\" scope=\"row\"><a href=\"/en/players/5ab0ea87/Sergio-Busquets\">Sergio Busquets</a></th><td class=\"left poptip\" data-stat=\"nationality\" data-tip=\"NT\"><a href=\"/en/country/ESP/Spain-Football\"><span style=\"white-space: nowrap\"><span class=\"f-i f-es\">es</span> ESP</span></a></td><td class=\"center\" csk=\"3.0\" data-stat=\"position\">MF</td><td class=\"center\" data-stat=\"age\">32-105</td><td class=\"right\" data-stat=\"minutes_90s\">4.8</td><td class=\"right\" data-stat=\"passes\">382</td><td class=\"right group_start\" data-stat=\"passes_live\">362</td><td class=\"right\" data-stat=\"passes_dead\">20</td><td class=\"right\" data-stat=\"passes_free_kicks\">20</td><td class=\"right iz\" data-stat=\"through_balls\">0</td><td class=\"right\" data-stat=\"passes_pressure\">47</td><td class=\"right\" data-stat=\"passes_switches\">8</td><td class=\"right iz\" data-stat=\"crosses\">0</td><td class=\"right iz\" data-stat=\"corner_kicks\">0</td><td class=\"right iz group_start\" data-stat=\"corner_kicks_in\">0</td><td class=\"right iz\" data-stat=\"corner_kicks_out\">0</td><td class=\"right iz\" data-stat=\"corner_kicks_straight\">0</td><td class=\"right group_start\" data-stat=\"passes_ground\">311</td><td class=\"right\" data-stat=\"passes_low\">30</td><td class=\"right\" data-stat=\"passes_high\">41</td><td class=\"right group_start\" data-stat=\"passes_left_foot\">69</td><td class=\"right\" data-stat=\"passes_right_foot\">299</td><td class=\"right\" data-stat=\"passes_head\">10</td><td class=\"right iz\" data-stat=\"throw_ins\">0</td><td class=\"right\" data-stat=\"passes_other_body\">2</td><td class=\"right group_start\" data-stat=\"passes_completed\">340</td><td class=\"right iz\" data-stat=\"passes_offsides\">0</td><td class=\"right\" data-stat=\"passes_oob\">3</td><td class=\"right\" data-stat=\"passes_intercepted\">3</td><td class=\"right\" data-stat=\"passes_blocked\">4</td><td class=\"left group_start\" data-stat=\"matches\"><a href=\"/en/players/5ab0ea87/matchlogs/2020-2021/passing_types/Sergio-Busquets-Match-Logs\">Matches</a></td></tr>\n",
       "<tr><th class=\"left\" csk=\"Roberto, Sergi\" data-append-csv=\"Sergi-Roberto\" data-stat=\"player\" scope=\"row\"><a href=\"/en/players/335fa267/Sergi-Roberto\">Sergi Roberto</a></th><td class=\"left poptip\" data-stat=\"nationality\" data-tip=\"NT\"><a href=\"/en/country/ESP/Spain-Football\"><span style=\"white-space: nowrap\"><span class=\"f-i f-es\">es</span> ESP</span></a></td><td class=\"center\" csk=\"2.0\" data-stat=\"position\">DF</td><td class=\"center\" data-stat=\"age\">28-265</td><td class=\"right\" data-stat=\"minutes_90s\">4.0</td><td class=\"right\" data-stat=\"passes\">280</td><td class=\"right group_start\" data-stat=\"passes_live\">252</td><td class=\"right\" data-stat=\"passes_dead\">28</td><td class=\"right\" data-stat=\"passes_free_kicks\">2</td><td class=\"right iz\" data-stat=\"through_balls\">0</td><td class=\"right\" data-stat=\"passes_pressure\">23</td><td class=\"right iz\" data-stat=\"passes_switches\">0</td><td class=\"right\" data-stat=\"crosses\">3</td><td class=\"right iz\" data-stat=\"corner_kicks\">0</td><td class=\"right iz group_start\" data-stat=\"corner_kicks_in\">0</td><td class=\"right iz\" data-stat=\"corner_kicks_out\">0</td><td class=\"right iz\" data-stat=\"corner_kicks_straight\">0</td><td class=\"right group_start\" data-stat=\"passes_ground\">210</td><td class=\"right\" data-stat=\"passes_low\">41</td><td class=\"right\" data-stat=\"passes_high\">29</td><td class=\"right group_start\" data-stat=\"passes_left_foot\">41</td><td class=\"right\" data-stat=\"passes_right_foot\">202</td><td class=\"right\" data-stat=\"passes_head\">10</td><td class=\"right\" data-stat=\"throw_ins\">26</td><td class=\"right iz\" data-stat=\"passes_other_body\">0</td><td class=\"right group_start\" data-stat=\"passes_completed\">249</td><td class=\"right iz\" data-stat=\"passes_offsides\">0</td><td class=\"right iz\" data-stat=\"passes_oob\">0</td><td class=\"right iz\" data-stat=\"passes_intercepted\">0</td><td class=\"right\" data-stat=\"passes_blocked\">10</td><td class=\"left group_start\" data-stat=\"matches\"><a href=\"/en/players/335fa267/matchlogs/2020-2021/passing_types/Sergi-Roberto-Match-Logs\">Matches</a></td></tr>\n",
       "<tr><th class=\"left\" csk=\"Alba, Jordi\" data-append-csv=\"Jordi-Alba\" data-stat=\"player\" scope=\"row\"><a href=\"/en/players/4601e194/Jordi-Alba\">Jordi Alba</a></th><td class=\"left poptip\" data-stat=\"nationality\" data-tip=\"NT\"><a href=\"/en/country/ESP/Spain-Football\"><span style=\"white-space: nowrap\"><span class=\"f-i f-es\">es</span> ESP</span></a></td><td class=\"center\" csk=\"2.0\" data-stat=\"position\">DF</td><td class=\"center\" data-stat=\"age\">31-222</td><td class=\"right\" data-stat=\"minutes_90s\">3.8</td><td class=\"right\" data-stat=\"passes\">295</td><td class=\"right group_start\" data-stat=\"passes_live\">268</td><td class=\"right\" data-stat=\"passes_dead\">27</td><td class=\"right\" data-stat=\"passes_free_kicks\">5</td><td class=\"right iz\" data-stat=\"through_balls\">0</td><td class=\"right\" data-stat=\"passes_pressure\">19</td><td class=\"right\" data-stat=\"passes_switches\">6</td><td class=\"right\" data-stat=\"crosses\">7</td><td class=\"right iz\" data-stat=\"corner_kicks\">0</td><td class=\"right iz group_start\" data-stat=\"corner_kicks_in\">0</td><td class=\"right iz\" data-stat=\"corner_kicks_out\">0</td><td class=\"right iz\" data-stat=\"corner_kicks_straight\">0</td><td class=\"right group_start\" data-stat=\"passes_ground\">225</td><td class=\"right\" data-stat=\"passes_low\">54</td><td class=\"right\" data-stat=\"passes_high\">16</td><td class=\"right group_start\" data-stat=\"passes_left_foot\">234</td><td class=\"right\" data-stat=\"passes_right_foot\">32</td><td class=\"right\" data-stat=\"passes_head\">4</td><td class=\"right\" data-stat=\"throw_ins\">22</td><td class=\"right\" data-stat=\"passes_other_body\">3</td><td class=\"right group_start\" data-stat=\"passes_completed\">250</td><td class=\"right iz\" data-stat=\"passes_offsides\">0</td><td class=\"right\" data-stat=\"passes_oob\">1</td><td class=\"right\" data-stat=\"passes_intercepted\">5</td><td class=\"right\" data-stat=\"passes_blocked\">13</td><td class=\"left group_start\" data-stat=\"matches\"><a href=\"/en/players/4601e194/matchlogs/2020-2021/passing_types/Jordi-Alba-Match-Logs\">Matches</a></td></tr>\n",
       "<tr><th class=\"left\" csk=\"Coutinho, Philippe\" data-append-csv=\"Philippe-Coutinho\" data-stat=\"player\" scope=\"row\"><a href=\"/en/players/0ef89a37/Philippe-Coutinho\">Philippe Coutinho</a></th><td class=\"left poptip\" data-stat=\"nationality\" data-tip=\"NT\"><a href=\"/en/country/BRA/Brazil-Football\"><span style=\"white-space: nowrap\"><span class=\"f-i f-br\">br</span> BRA</span></a></td><td class=\"center\" csk=\"3.0\" data-stat=\"position\">MF</td><td class=\"center\" data-stat=\"age\">28-139</td><td class=\"right\" data-stat=\"minutes_90s\">3.7</td><td class=\"right\" data-stat=\"passes\">226</td><td class=\"right group_start\" data-stat=\"passes_live\">217</td><td class=\"right\" data-stat=\"passes_dead\">9</td><td class=\"right\" data-stat=\"passes_free_kicks\">1</td><td class=\"right\" data-stat=\"through_balls\">2</td><td class=\"right\" data-stat=\"passes_pressure\">24</td><td class=\"right\" data-stat=\"passes_switches\">3</td><td class=\"right\" data-stat=\"crosses\">3</td><td class=\"right\" data-stat=\"corner_kicks\">5</td><td class=\"right group_start\" data-stat=\"corner_kicks_in\">4</td><td class=\"right iz\" data-stat=\"corner_kicks_out\">0</td><td class=\"right iz\" data-stat=\"corner_kicks_straight\">0</td><td class=\"right group_start\" data-stat=\"passes_ground\">186</td><td class=\"right\" data-stat=\"passes_low\">22</td><td class=\"right\" data-stat=\"passes_high\">18</td><td class=\"right group_start\" data-stat=\"passes_left_foot\">24</td><td class=\"right\" data-stat=\"passes_right_foot\">194</td><td class=\"right\" data-stat=\"passes_head\">3</td><td class=\"right\" data-stat=\"throw_ins\">3</td><td class=\"right iz\" data-stat=\"passes_other_body\">0</td><td class=\"right group_start\" data-stat=\"passes_completed\">195</td><td class=\"right\" data-stat=\"passes_offsides\">1</td><td class=\"right\" data-stat=\"passes_oob\">4</td><td class=\"right\" data-stat=\"passes_intercepted\">2</td><td class=\"right\" data-stat=\"passes_blocked\">2</td><td class=\"left group_start\" data-stat=\"matches\"><a href=\"/en/players/0ef89a37/matchlogs/2020-2021/passing_types/Philippe-Coutinho-Match-Logs\">Matches</a></td></tr>\n",
       "<tr><th class=\"left\" csk=\"Lenglet, Clément\" data-append-csv=\"Clement-Lenglet\" data-stat=\"player\" scope=\"row\"><a href=\"/en/players/4f28a6ff/Clement-Lenglet\">Clément Lenglet</a></th><td class=\"left poptip\" data-stat=\"nationality\" data-tip=\"NT\"><a href=\"/en/country/FRA/France-Football\"><span style=\"white-space: nowrap\"><span class=\"f-i f-fr\">fr</span> FRA</span></a></td><td class=\"center\" csk=\"2.0\" data-stat=\"position\">DF</td><td class=\"center\" data-stat=\"age\">25-134</td><td class=\"right\" data-stat=\"minutes_90s\">3.5</td><td class=\"right\" data-stat=\"passes\">240</td><td class=\"right group_start\" data-stat=\"passes_live\">228</td><td class=\"right\" data-stat=\"passes_dead\">12</td><td class=\"right\" data-stat=\"passes_free_kicks\">12</td><td class=\"right\" data-stat=\"through_balls\">1</td><td class=\"right\" data-stat=\"passes_pressure\">13</td><td class=\"right\" data-stat=\"passes_switches\">3</td><td class=\"right iz\" data-stat=\"crosses\">0</td><td class=\"right iz\" data-stat=\"corner_kicks\">0</td><td class=\"right iz group_start\" data-stat=\"corner_kicks_in\">0</td><td class=\"right iz\" data-stat=\"corner_kicks_out\">0</td><td class=\"right iz\" data-stat=\"corner_kicks_straight\">0</td><td class=\"right group_start\" data-stat=\"passes_ground\">201</td><td class=\"right\" data-stat=\"passes_low\">17</td><td class=\"right\" data-stat=\"passes_high\">22</td><td class=\"right group_start\" data-stat=\"passes_left_foot\">188</td><td class=\"right\" data-stat=\"passes_right_foot\">38</td><td class=\"right\" data-stat=\"passes_head\">10</td><td class=\"right iz\" data-stat=\"throw_ins\">0</td><td class=\"right iz\" data-stat=\"passes_other_body\">0</td><td class=\"right group_start\" data-stat=\"passes_completed\">216</td><td class=\"right iz\" data-stat=\"passes_offsides\">0</td><td class=\"right\" data-stat=\"passes_oob\">1</td><td class=\"right\" data-stat=\"passes_intercepted\">6</td><td class=\"right\" data-stat=\"passes_blocked\">2</td><td class=\"left group_start\" data-stat=\"matches\"><a href=\"/en/players/4f28a6ff/matchlogs/2020-2021/passing_types/Clement-Lenglet-Match-Logs\">Matches</a></td></tr>\n",
       "<tr><th class=\"left\" csk=\"Fati, Ansu\" data-append-csv=\"Ansu-Fati\" data-stat=\"player\" scope=\"row\"><a href=\"/en/players/0ba976e4/Ansu-Fati\">Ansu Fati</a></th><td class=\"left poptip\" data-stat=\"nationality\" data-tip=\"NT\"><a href=\"/en/country/ESP/Spain-Football\"><span style=\"white-space: nowrap\"><span class=\"f-i f-es\">es</span> ESP</span></a></td><td class=\"center\" csk=\"4.0\" data-stat=\"position\">FW</td><td class=\"center\" data-stat=\"age\">17-364</td><td class=\"right\" data-stat=\"minutes_90s\">3.4</td><td class=\"right\" data-stat=\"passes\">149</td><td class=\"right group_start\" data-stat=\"passes_live\">142</td><td class=\"right\" data-stat=\"passes_dead\">7</td><td class=\"right\" data-stat=\"passes_free_kicks\">1</td><td class=\"right iz\" data-stat=\"through_balls\">0</td><td class=\"right\" data-stat=\"passes_pressure\">22</td><td class=\"right iz\" data-stat=\"passes_switches\">0</td><td class=\"right\" data-stat=\"crosses\">5</td><td class=\"right\" data-stat=\"corner_kicks\">3</td><td class=\"right group_start\" data-stat=\"corner_kicks_in\">2</td><td class=\"right iz\" data-stat=\"corner_kicks_out\">0</td><td class=\"right iz\" data-stat=\"corner_kicks_straight\">0</td><td class=\"right group_start\" data-stat=\"passes_ground\">129</td><td class=\"right\" data-stat=\"passes_low\">11</td><td class=\"right\" data-stat=\"passes_high\">9</td><td class=\"right group_start\" data-stat=\"passes_left_foot\">12</td><td class=\"right\" data-stat=\"passes_right_foot\">133</td><td class=\"right\" data-stat=\"passes_head\">1</td><td class=\"right\" data-stat=\"throw_ins\">1</td><td class=\"right\" data-stat=\"passes_other_body\">1</td><td class=\"right group_start\" data-stat=\"passes_completed\">122</td><td class=\"right iz\" data-stat=\"passes_offsides\">0</td><td class=\"right iz\" data-stat=\"passes_oob\">0</td><td class=\"right\" data-stat=\"passes_intercepted\">5</td><td class=\"right\" data-stat=\"passes_blocked\">6</td><td class=\"left group_start\" data-stat=\"matches\"><a href=\"/en/players/0ba976e4/matchlogs/2020-2021/passing_types/Ansu-Fati-Match-Logs\">Matches</a></td></tr>\n",
       "<tr><th class=\"left\" csk=\"Griezmann, Antoine\" data-append-csv=\"Antoine-Griezmann\" data-stat=\"player\" scope=\"row\"><a href=\"/en/players/df69b544/Antoine-Griezmann\">Antoine Griezmann</a></th><td class=\"left poptip\" data-stat=\"nationality\" data-tip=\"NT\"><a href=\"/en/country/FRA/France-Football\"><span style=\"white-space: nowrap\"><span class=\"f-i f-fr\">fr</span> FRA</span></a></td><td class=\"center\" csk=\"4.0\" data-stat=\"position\">FW</td><td class=\"center\" data-stat=\"age\">29-222</td><td class=\"right\" data-stat=\"minutes_90s\">3.0</td><td class=\"right\" data-stat=\"passes\">99</td><td class=\"right group_start\" data-stat=\"passes_live\">96</td><td class=\"right\" data-stat=\"passes_dead\">3</td><td class=\"right\" data-stat=\"passes_free_kicks\">1</td><td class=\"right iz\" data-stat=\"through_balls\">0</td><td class=\"right\" data-stat=\"passes_pressure\">18</td><td class=\"right iz\" data-stat=\"passes_switches\">0</td><td class=\"right iz\" data-stat=\"crosses\">0</td><td class=\"right iz\" data-stat=\"corner_kicks\">0</td><td class=\"right iz group_start\" data-stat=\"corner_kicks_in\">0</td><td class=\"right iz\" data-stat=\"corner_kicks_out\">0</td><td class=\"right iz\" data-stat=\"corner_kicks_straight\">0</td><td class=\"right group_start\" data-stat=\"passes_ground\">85</td><td class=\"right\" data-stat=\"passes_low\">10</td><td class=\"right\" data-stat=\"passes_high\">4</td><td class=\"right group_start\" data-stat=\"passes_left_foot\">79</td><td class=\"right\" data-stat=\"passes_right_foot\">13</td><td class=\"right\" data-stat=\"passes_head\">5</td><td class=\"right iz\" data-stat=\"throw_ins\">0</td><td class=\"right\" data-stat=\"passes_other_body\">1</td><td class=\"right group_start\" data-stat=\"passes_completed\">84</td><td class=\"right iz\" data-stat=\"passes_offsides\">0</td><td class=\"right iz\" data-stat=\"passes_oob\">0</td><td class=\"right iz\" data-stat=\"passes_intercepted\">0</td><td class=\"right\" data-stat=\"passes_blocked\">4</td><td class=\"left group_start\" data-stat=\"matches\"><a href=\"/en/players/df69b544/matchlogs/2020-2021/passing_types/Antoine-Griezmann-Match-Logs\">Matches</a></td></tr>\n",
       "<tr><th class=\"left\" csk=\"Pedri\" data-append-csv=\"Pedri\" data-stat=\"player\" scope=\"row\"><a href=\"/en/players/0d9b2d31/Pedri\">Pedri</a></th><td class=\"left poptip\" data-stat=\"nationality\" data-tip=\"YNT\"><a href=\"/en/country/ESP/Spain-Football\"><span style=\"white-space: nowrap\"><span class=\"f-i f-es\">es</span> ESP</span></a></td><td class=\"center\" csk=\"3.3\" data-stat=\"position\">MF,FW</td><td class=\"center\" data-stat=\"age\">17-339</td><td class=\"right\" data-stat=\"minutes_90s\">2.3</td><td class=\"right\" data-stat=\"passes\">105</td><td class=\"right group_start\" data-stat=\"passes_live\">105</td><td class=\"right iz\" data-stat=\"passes_dead\">0</td><td class=\"right iz\" data-stat=\"passes_free_kicks\">0</td><td class=\"right\" data-stat=\"through_balls\">1</td><td class=\"right\" data-stat=\"passes_pressure\">23</td><td class=\"right\" data-stat=\"passes_switches\">1</td><td class=\"right iz\" data-stat=\"crosses\">0</td><td class=\"right iz\" data-stat=\"corner_kicks\">0</td><td class=\"right iz group_start\" data-stat=\"corner_kicks_in\">0</td><td class=\"right iz\" data-stat=\"corner_kicks_out\">0</td><td class=\"right iz\" data-stat=\"corner_kicks_straight\">0</td><td class=\"right group_start\" data-stat=\"passes_ground\">89</td><td class=\"right\" data-stat=\"passes_low\">7</td><td class=\"right\" data-stat=\"passes_high\">9</td><td class=\"right group_start\" data-stat=\"passes_left_foot\">24</td><td class=\"right\" data-stat=\"passes_right_foot\">78</td><td class=\"right\" data-stat=\"passes_head\">2</td><td class=\"right iz\" data-stat=\"throw_ins\">0</td><td class=\"right iz\" data-stat=\"passes_other_body\">0</td><td class=\"right group_start\" data-stat=\"passes_completed\">89</td><td class=\"right\" data-stat=\"passes_offsides\">1</td><td class=\"right\" data-stat=\"passes_oob\">1</td><td class=\"right\" data-stat=\"passes_intercepted\">2</td><td class=\"right\" data-stat=\"passes_blocked\">2</td><td class=\"left group_start\" data-stat=\"matches\"><a href=\"/en/players/0d9b2d31/matchlogs/2020-2021/passing_types/Pedri-Match-Logs\">Matches</a></td></tr>\n",
       "<tr><th class=\"left\" csk=\"Dest, Sergiño\" data-append-csv=\"Sergino-Dest\" data-stat=\"player\" scope=\"row\"><a href=\"/en/players/5976f83e/Sergino-Dest\">Sergiño Dest</a></th><td class=\"left poptip\" data-stat=\"nationality\" data-tip=\"NT\"><a href=\"/en/country/USA/United-States-Football\"><span style=\"white-space: nowrap\"><span class=\"f-i f-us\">us</span> USA</span></a></td><td class=\"center\" csk=\"2.0\" data-stat=\"position\">DF</td><td class=\"center\" data-stat=\"age\">19-361</td><td class=\"right\" data-stat=\"minutes_90s\">2.2</td><td class=\"right\" data-stat=\"passes\">149</td><td class=\"right group_start\" data-stat=\"passes_live\">128</td><td class=\"right\" data-stat=\"passes_dead\">21</td><td class=\"right\" data-stat=\"passes_free_kicks\">1</td><td class=\"right iz\" data-stat=\"through_balls\">0</td><td class=\"right\" data-stat=\"passes_pressure\">12</td><td class=\"right\" data-stat=\"passes_switches\">1</td><td class=\"right\" data-stat=\"crosses\">1</td><td class=\"right iz\" data-stat=\"corner_kicks\">0</td><td class=\"right iz group_start\" data-stat=\"corner_kicks_in\">0</td><td class=\"right iz\" data-stat=\"corner_kicks_out\">0</td><td class=\"right iz\" data-stat=\"corner_kicks_straight\">0</td><td class=\"right group_start\" data-stat=\"passes_ground\">110</td><td class=\"right\" data-stat=\"passes_low\">28</td><td class=\"right\" data-stat=\"passes_high\">11</td><td class=\"right group_start\" data-stat=\"passes_left_foot\">15</td><td class=\"right\" data-stat=\"passes_right_foot\">110</td><td class=\"right\" data-stat=\"passes_head\">4</td><td class=\"right\" data-stat=\"throw_ins\">20</td><td class=\"right iz\" data-stat=\"passes_other_body\">0</td><td class=\"right group_start\" data-stat=\"passes_completed\">128</td><td class=\"right iz\" data-stat=\"passes_offsides\">0</td><td class=\"right iz\" data-stat=\"passes_oob\">0</td><td class=\"right\" data-stat=\"passes_intercepted\">2</td><td class=\"right\" data-stat=\"passes_blocked\">9</td><td class=\"left group_start\" data-stat=\"matches\"><a href=\"/en/players/5976f83e/matchlogs/2020-2021/passing_types/Sergino-Dest-Match-Logs\">Matches</a></td></tr>\n",
       "<tr><th class=\"left\" csk=\"Araújo, Ronald\" data-append-csv=\"Ronald-Araujo\" data-stat=\"player\" scope=\"row\"><a href=\"/en/players/2bef2bca/Ronald-Araujo\">Ronald Araújo</a></th><td class=\"left poptip\" data-stat=\"nationality\" data-tip=\"NT\"><a href=\"/en/country/URU/Uruguay-Football\"><span style=\"white-space: nowrap\"><span class=\"f-i f-uy\">uy</span> URU</span></a></td><td class=\"center\" csk=\"2.0\" data-stat=\"position\">DF</td><td class=\"center\" data-stat=\"age\">21-236</td><td class=\"right\" data-stat=\"minutes_90s\">1.5</td><td class=\"right\" data-stat=\"passes\">76</td><td class=\"right group_start\" data-stat=\"passes_live\">71</td><td class=\"right\" data-stat=\"passes_dead\">5</td><td class=\"right\" data-stat=\"passes_free_kicks\">5</td><td class=\"right\" data-stat=\"through_balls\">1</td><td class=\"right\" data-stat=\"passes_pressure\">12</td><td class=\"right\" data-stat=\"passes_switches\">3</td><td class=\"right iz\" data-stat=\"crosses\">0</td><td class=\"right iz\" data-stat=\"corner_kicks\">0</td><td class=\"right iz group_start\" data-stat=\"corner_kicks_in\">0</td><td class=\"right iz\" data-stat=\"corner_kicks_out\">0</td><td class=\"right iz\" data-stat=\"corner_kicks_straight\">0</td><td class=\"right group_start\" data-stat=\"passes_ground\">62</td><td class=\"right\" data-stat=\"passes_low\">4</td><td class=\"right\" data-stat=\"passes_high\">10</td><td class=\"right group_start\" data-stat=\"passes_left_foot\">5</td><td class=\"right\" data-stat=\"passes_right_foot\">68</td><td class=\"right\" data-stat=\"passes_head\">2</td><td class=\"right iz\" data-stat=\"throw_ins\">0</td><td class=\"right iz\" data-stat=\"passes_other_body\">0</td><td class=\"right group_start\" data-stat=\"passes_completed\">67</td><td class=\"right iz\" data-stat=\"passes_offsides\">0</td><td class=\"right iz\" data-stat=\"passes_oob\">0</td><td class=\"right iz\" data-stat=\"passes_intercepted\">0</td><td class=\"right\" data-stat=\"passes_blocked\">1</td><td class=\"left group_start\" data-stat=\"matches\"><a href=\"/en/players/2bef2bca/matchlogs/2020-2021/passing_types/Ronald-Araujo-Match-Logs\">Matches</a></td></tr>\n",
       "<tr><th class=\"left\" csk=\"Dembélé, Ousmane\" data-append-csv=\"Ousmane-Dembele\" data-stat=\"player\" scope=\"row\"><a href=\"/en/players/b19db005/Ousmane-Dembele\">Ousmane Dembélé</a></th><td class=\"left poptip\" data-stat=\"nationality\" data-tip=\"NT\"><a href=\"/en/country/FRA/France-Football\"><span style=\"white-space: nowrap\"><span class=\"f-i f-fr\">fr</span> FRA</span></a></td><td class=\"center\" csk=\"4.0\" data-stat=\"position\">FW</td><td class=\"center\" data-stat=\"age\">23-167</td><td class=\"right\" data-stat=\"minutes_90s\">1.0</td><td class=\"right\" data-stat=\"passes\">53</td><td class=\"right group_start\" data-stat=\"passes_live\">50</td><td class=\"right\" data-stat=\"passes_dead\">3</td><td class=\"right\" data-stat=\"passes_free_kicks\">1</td><td class=\"right iz\" data-stat=\"through_balls\">0</td><td class=\"right\" data-stat=\"passes_pressure\">7</td><td class=\"right iz\" data-stat=\"passes_switches\">0</td><td class=\"right\" data-stat=\"crosses\">1</td><td class=\"right iz\" data-stat=\"corner_kicks\">0</td><td class=\"right iz group_start\" data-stat=\"corner_kicks_in\">0</td><td class=\"right iz\" data-stat=\"corner_kicks_out\">0</td><td class=\"right iz\" data-stat=\"corner_kicks_straight\">0</td><td class=\"right group_start\" data-stat=\"passes_ground\">44</td><td class=\"right\" data-stat=\"passes_low\">5</td><td class=\"right\" data-stat=\"passes_high\">4</td><td class=\"right group_start\" data-stat=\"passes_left_foot\">16</td><td class=\"right\" data-stat=\"passes_right_foot\">32</td><td class=\"right\" data-stat=\"passes_head\">1</td><td class=\"right\" data-stat=\"throw_ins\">2</td><td class=\"right\" data-stat=\"passes_other_body\">1</td><td class=\"right group_start\" data-stat=\"passes_completed\">44</td><td class=\"right iz\" data-stat=\"passes_offsides\">0</td><td class=\"right\" data-stat=\"passes_oob\">1</td><td class=\"right\" data-stat=\"passes_intercepted\">3</td><td class=\"right\" data-stat=\"passes_blocked\">2</td><td class=\"left group_start\" data-stat=\"matches\"><a href=\"/en/players/b19db005/matchlogs/2020-2021/passing_types/Ousmane-Dembele-Match-Logs\">Matches</a></td></tr>\n",
       "<tr><th class=\"left\" csk=\"Trincão, Francisco\" data-append-csv=\"Francisco-Trincao\" data-stat=\"player\" scope=\"row\"><a href=\"/en/players/77e39b04/Francisco-Trincao\">Francisco Trincão</a></th><td class=\"left poptip\" data-stat=\"nationality\" data-tip=\"NT\"><a href=\"/en/country/POR/Portugal-Football\"><span style=\"white-space: nowrap\"><span class=\"f-i f-pt\">pt</span> POR</span></a></td><td class=\"center\" csk=\"3.5\" data-stat=\"position\">FW,MF</td><td class=\"center\" data-stat=\"age\">20-305</td><td class=\"right\" data-stat=\"minutes_90s\">0.9</td><td class=\"right\" data-stat=\"passes\">37</td><td class=\"right group_start\" data-stat=\"passes_live\">35</td><td class=\"right\" data-stat=\"passes_dead\">2</td><td class=\"right\" data-stat=\"passes_free_kicks\">1</td><td class=\"right iz\" data-stat=\"through_balls\">0</td><td class=\"right\" data-stat=\"passes_pressure\">5</td><td class=\"right\" data-stat=\"passes_switches\">1</td><td class=\"right\" data-stat=\"crosses\">1</td><td class=\"right\" data-stat=\"corner_kicks\">1</td><td class=\"right iz group_start\" data-stat=\"corner_kicks_in\">0</td><td class=\"right iz\" data-stat=\"corner_kicks_out\">0</td><td class=\"right iz\" data-stat=\"corner_kicks_straight\">0</td><td class=\"right group_start\" data-stat=\"passes_ground\">31</td><td class=\"right\" data-stat=\"passes_low\">1</td><td class=\"right\" data-stat=\"passes_high\">5</td><td class=\"right group_start\" data-stat=\"passes_left_foot\">27</td><td class=\"right\" data-stat=\"passes_right_foot\">5</td><td class=\"right\" data-stat=\"passes_head\">2</td><td class=\"right iz\" data-stat=\"throw_ins\">0</td><td class=\"right\" data-stat=\"passes_other_body\">3</td><td class=\"right group_start\" data-stat=\"passes_completed\">27</td><td class=\"right iz\" data-stat=\"passes_offsides\">0</td><td class=\"right\" data-stat=\"passes_oob\">1</td><td class=\"right\" data-stat=\"passes_intercepted\">2</td><td class=\"right\" data-stat=\"passes_blocked\">4</td><td class=\"left group_start\" data-stat=\"matches\"><a href=\"/en/players/77e39b04/matchlogs/2020-2021/passing_types/Francisco-Trincao-Match-Logs\">Matches</a></td></tr>\n",
       "<tr><th class=\"left\" csk=\"Pjanić, Miralem\" data-append-csv=\"Miralem-Pjanic\" data-stat=\"player\" scope=\"row\"><a href=\"/en/players/ad6df2d5/Miralem-Pjanic\">Miralem Pjanić</a></th><td class=\"left poptip\" data-stat=\"nationality\" data-tip=\"NT\"><a href=\"/en/country/BIH/Bosnia-and-Herzegovina-Football\"><span style=\"white-space: nowrap\"><span class=\"f-i f-ba\">ba</span> BIH</span></a></td><td class=\"center\" csk=\"3.0\" data-stat=\"position\">MF</td><td class=\"center\" data-stat=\"age\">30-210</td><td class=\"right\" data-stat=\"minutes_90s\">0.3</td><td class=\"right\" data-stat=\"passes\">37</td><td class=\"right group_start\" data-stat=\"passes_live\">35</td><td class=\"right\" data-stat=\"passes_dead\">2</td><td class=\"right\" data-stat=\"passes_free_kicks\">1</td><td class=\"right iz\" data-stat=\"through_balls\">0</td><td class=\"right\" data-stat=\"passes_pressure\">6</td><td class=\"right iz\" data-stat=\"passes_switches\">0</td><td class=\"right iz\" data-stat=\"crosses\">0</td><td class=\"right iz\" data-stat=\"corner_kicks\">0</td><td class=\"right iz group_start\" data-stat=\"corner_kicks_in\">0</td><td class=\"right iz\" data-stat=\"corner_kicks_out\">0</td><td class=\"right iz\" data-stat=\"corner_kicks_straight\">0</td><td class=\"right group_start\" data-stat=\"passes_ground\">29</td><td class=\"right\" data-stat=\"passes_low\">6</td><td class=\"right\" data-stat=\"passes_high\">2</td><td class=\"right group_start\" data-stat=\"passes_left_foot\">3</td><td class=\"right\" data-stat=\"passes_right_foot\">31</td><td class=\"right\" data-stat=\"passes_head\">1</td><td class=\"right\" data-stat=\"throw_ins\">1</td><td class=\"right iz\" data-stat=\"passes_other_body\">0</td><td class=\"right group_start\" data-stat=\"passes_completed\">33</td><td class=\"right iz\" data-stat=\"passes_offsides\">0</td><td class=\"right iz\" data-stat=\"passes_oob\">0</td><td class=\"right iz\" data-stat=\"passes_intercepted\">0</td><td class=\"right\" data-stat=\"passes_blocked\">1</td><td class=\"left group_start\" data-stat=\"matches\"><a href=\"/en/players/ad6df2d5/matchlogs/2020-2021/passing_types/Miralem-Pjanic-Match-Logs\">Matches</a></td></tr>\n",
       "<tr><th class=\"left\" csk=\"Braithwaite, Martin\" data-append-csv=\"Martin-Braithwaite\" data-stat=\"player\" scope=\"row\"><a href=\"/en/players/fd771f95/Martin-Braithwaite\">Martin Braithwaite</a></th><td class=\"left poptip\" data-stat=\"nationality\" data-tip=\"NT\"><a href=\"/en/country/DEN/Denmark-Football\"><span style=\"white-space: nowrap\"><span class=\"f-i f-dk\">dk</span> DEN</span></a></td><td class=\"center\" csk=\"3.4\" data-stat=\"position\">FW,DF</td><td class=\"center\" data-stat=\"age\">29-146</td><td class=\"right\" data-stat=\"minutes_90s\">0.2</td><td class=\"right\" data-stat=\"passes\">6</td><td class=\"right group_start\" data-stat=\"passes_live\">6</td><td class=\"right iz\" data-stat=\"passes_dead\">0</td><td class=\"right iz\" data-stat=\"passes_free_kicks\">0</td><td class=\"right iz\" data-stat=\"through_balls\">0</td><td class=\"right\" data-stat=\"passes_pressure\">2</td><td class=\"right iz\" data-stat=\"passes_switches\">0</td><td class=\"right\" data-stat=\"crosses\">1</td><td class=\"right iz\" data-stat=\"corner_kicks\">0</td><td class=\"right iz group_start\" data-stat=\"corner_kicks_in\">0</td><td class=\"right iz\" data-stat=\"corner_kicks_out\">0</td><td class=\"right iz\" data-stat=\"corner_kicks_straight\">0</td><td class=\"right group_start\" data-stat=\"passes_ground\">6</td><td class=\"right iz\" data-stat=\"passes_low\">0</td><td class=\"right iz\" data-stat=\"passes_high\">0</td><td class=\"right group_start\" data-stat=\"passes_left_foot\">1</td><td class=\"right\" data-stat=\"passes_right_foot\">5</td><td class=\"right iz\" data-stat=\"passes_head\">0</td><td class=\"right iz\" data-stat=\"throw_ins\">0</td><td class=\"right iz\" data-stat=\"passes_other_body\">0</td><td class=\"right group_start\" data-stat=\"passes_completed\">4</td><td class=\"right iz\" data-stat=\"passes_offsides\">0</td><td class=\"right iz\" data-stat=\"passes_oob\">0</td><td class=\"right iz\" data-stat=\"passes_intercepted\">0</td><td class=\"right iz\" data-stat=\"passes_blocked\">0</td><td class=\"left group_start\" data-stat=\"matches\"><a href=\"/en/players/fd771f95/matchlogs/2020-2021/passing_types/Martin-Braithwaite-Match-Logs\">Matches</a></td></tr>\n",
       "<tr><th class=\"left\" csk=\"Puig, Riqui\" data-append-csv=\"Riqui-Puig\" data-stat=\"player\" scope=\"row\"><a href=\"/en/players/f090a37a/Riqui-Puig\">Riqui Puig</a></th><td class=\"left poptip\" data-stat=\"nationality\" data-tip=\"YNT\"><a href=\"/en/country/ESP/Spain-Football\"><span style=\"white-space: nowrap\"><span class=\"f-i f-es\">es</span> ESP</span></a></td><td class=\"center\" csk=\"2.0\" data-stat=\"position\">DF</td><td class=\"center\" data-stat=\"age\">21-077</td><td class=\"right\" data-stat=\"minutes_90s\">0.0</td><td class=\"right\" data-stat=\"passes\">10</td><td class=\"right group_start\" data-stat=\"passes_live\">9</td><td class=\"right\" data-stat=\"passes_dead\">1</td><td class=\"right iz\" data-stat=\"passes_free_kicks\">0</td><td class=\"right iz\" data-stat=\"through_balls\">0</td><td class=\"right iz\" data-stat=\"passes_pressure\">0</td><td class=\"right\" data-stat=\"passes_switches\">1</td><td class=\"right iz\" data-stat=\"crosses\">0</td><td class=\"right iz\" data-stat=\"corner_kicks\">0</td><td class=\"right iz group_start\" data-stat=\"corner_kicks_in\">0</td><td class=\"right iz\" data-stat=\"corner_kicks_out\">0</td><td class=\"right iz\" data-stat=\"corner_kicks_straight\">0</td><td class=\"right group_start\" data-stat=\"passes_ground\">8</td><td class=\"right\" data-stat=\"passes_low\">1</td><td class=\"right\" data-stat=\"passes_high\">1</td><td class=\"right group_start\" data-stat=\"passes_left_foot\">1</td><td class=\"right\" data-stat=\"passes_right_foot\">8</td><td class=\"right iz\" data-stat=\"passes_head\">0</td><td class=\"right\" data-stat=\"throw_ins\">1</td><td class=\"right iz\" data-stat=\"passes_other_body\">0</td><td class=\"right group_start\" data-stat=\"passes_completed\">9</td><td class=\"right iz\" data-stat=\"passes_offsides\">0</td><td class=\"right iz\" data-stat=\"passes_oob\">0</td><td class=\"right\" data-stat=\"passes_intercepted\">1</td><td class=\"right iz\" data-stat=\"passes_blocked\">0</td><td class=\"left group_start\" data-stat=\"matches\"><a href=\"/en/players/f090a37a/matchlogs/2020-2021/passing_types/Riqui-Puig-Match-Logs\">Matches</a></td></tr>\n",
       "</tbody>"
      ]
     },
     "execution_count": 74,
     "metadata": {},
     "output_type": "execute_result"
    }
   ],
   "source": [
    "tbody_ptype"
   ]
  },
  {
   "cell_type": "code",
   "execution_count": 75,
   "metadata": {},
   "outputs": [
    {
     "name": "stdout",
     "output_type": "stream",
     "text": [
      "['50', '15', '22', '47', '47', '23', '19', '24', '13', '22', '18', '23', '12', '12', '7', '5', '6', '2', '0']\n"
     ]
    }
   ],
   "source": [
    "pass_comps = tbody_ptype.find_all(attrs={'data-stat':'passes_pressure'})\n",
    "pcomp_list = []\n",
    "for pass_comp in pass_comps:\n",
    "    pcomp_list.append(pass_comp.text)\n",
    "print(pcomp_list)"
   ]
  },
  {
   "cell_type": "code",
   "execution_count": 76,
   "metadata": {},
   "outputs": [
    {
     "name": "stdout",
     "output_type": "stream",
     "text": [
      "['9', '1', '13', '9', '8', '0', '6', '3', '3', '0', '0', '1', '1', '3', '0', '1', '0', '0', '1']\n"
     ]
    }
   ],
   "source": [
    "pass_comps = tbody_ptype.find_all(attrs={'data-stat':'passes_switches'})\n",
    "pcomp_list = []\n",
    "for pass_comp in pass_comps:\n",
    "    pcomp_list.append(pass_comp.text)\n",
    "print(pcomp_list)"
   ]
  },
  {
   "cell_type": "code",
   "execution_count": 77,
   "metadata": {},
   "outputs": [
    {
     "name": "stdout",
     "output_type": "stream",
     "text": [
      "['2', '0', '1', '6', '3', '0', '5', '2', '6', '5', '0', '2', '2', '0', '3', '2', '0', '0', '1']\n"
     ]
    }
   ],
   "source": [
    "pass_comps = tbody_ptype.find_all(attrs={'data-stat':'passes_intercepted'})\n",
    "pcomp_list = []\n",
    "for pass_comp in pass_comps:\n",
    "    pcomp_list.append(pass_comp.text)\n",
    "print(pcomp_list)"
   ]
  },
  {
   "cell_type": "code",
   "execution_count": 78,
   "metadata": {},
   "outputs": [
    {
     "name": "stdout",
     "output_type": "stream",
     "text": [
      "['14', '1', '2', '6', '4', '10', '13', '2', '2', '6', '4', '2', '9', '1', '2', '4', '1', '0', '0']\n"
     ]
    }
   ],
   "source": [
    "pass_comps = tbody_ptype.find_all(attrs={'data-stat':'passes_blocked'})\n",
    "pcomp_list = []\n",
    "for pass_comp in pass_comps:\n",
    "    pcomp_list.append(pass_comp.text)\n",
    "print(pcomp_list) "
   ]
  },
  {
   "cell_type": "code",
   "execution_count": 81,
   "metadata": {},
   "outputs": [],
   "source": [
    "with open('../assets/barca_ptype.csv', 'w') as csv_file:\n",
    "    fieldnames = ['press', 'switch', 'intercepted', 'blocked']\n",
    "    writer = csv.DictWriter(csv_file, fieldnames=fieldnames)\n",
    "    writer.writeheader()\n",
    "    for press, switch, intercept, block in zip():\n",
    "        writer.writerow({'press':press_list, 'switch':switch_list, 'intercepted':inter_list, 'blocked':block_list})"
   ]
  },
  {
   "cell_type": "code",
   "execution_count": null,
   "metadata": {},
   "outputs": [],
   "source": []
  }
 ],
 "metadata": {
  "kernelspec": {
   "display_name": "Python 3",
   "language": "python",
   "name": "python3"
  },
  "language_info": {
   "codemirror_mode": {
    "name": "ipython",
    "version": 3
   },
   "file_extension": ".py",
   "mimetype": "text/x-python",
   "name": "python",
   "nbconvert_exporter": "python",
   "pygments_lexer": "ipython3",
   "version": "3.7.6"
  }
 },
 "nbformat": 4,
 "nbformat_minor": 4
}
