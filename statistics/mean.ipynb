{
 "cells": [
  {
   "cell_type": "code",
   "execution_count": 82,
   "metadata": {},
   "outputs": [],
   "source": [
    "import numpy as np\n",
    "import matplotlib.pyplot as plt\n",
    "from scipy import stats\n",
    "import seaborn as sns\n",
    "\n",
    "import time"
   ]
  },
  {
   "cell_type": "markdown",
   "metadata": {},
   "source": [
    "## Mean"
   ]
  },
  {
   "cell_type": "markdown",
   "metadata": {},
   "source": [
    "### 算術平均の重要な性質"
   ]
  },
  {
   "cell_type": "markdown",
   "metadata": {},
   "source": [
    "\n",
    "#### １. 算術平均からの偏差の合計は０になる\n"
   ]
  },
  {
   "cell_type": "code",
   "execution_count": 46,
   "metadata": {},
   "outputs": [
    {
     "name": "stdout",
     "output_type": "stream",
     "text": [
      "0.0\n"
     ]
    }
   ],
   "source": [
    "apple_weight = np.array([100, 150, 200, 300, 500])\n",
    "apple_w_mean = np.mean(apple_weight)\n",
    "diviations = apple_weight - apple_w_mean\n",
    "print(diviations.sum())"
   ]
  },
  {
   "cell_type": "markdown",
   "metadata": {},
   "source": [
    "#### ２. 算術平均は各値からの偏差の平方和（２乗の合計）を最小にする値である"
   ]
  },
  {
   "cell_type": "code",
   "execution_count": 47,
   "metadata": {},
   "outputs": [
    {
     "name": "stdout",
     "output_type": "stream",
     "text": [
      "406666.6666666667\n"
     ]
    }
   ],
   "source": [
    "banana_weight = np.array([100,500,1000])\n",
    "banana_w_mean = np.mean(banana_weight)\n",
    "double_diviations = (banana_weight - banana_w_mean)**2\n",
    "print(double_diviations.sum()) # -> 最小になる"
   ]
  },
  {
   "cell_type": "markdown",
   "metadata": {},
   "source": [
    "### 幾何平均（相乗平均）\n",
    "n個の積のn乗根 | 平均変化率を求めたい時に利用"
   ]
  },
  {
   "cell_type": "code",
   "execution_count": 48,
   "metadata": {},
   "outputs": [
    {
     "data": {
      "text/plain": [
       "126.82651410769996"
      ]
     },
     "execution_count": 48,
     "metadata": {},
     "output_type": "execute_result"
    }
   ],
   "source": [
    "dembele_speed = [100, 120, 170]\n",
    "stats.gmean(dembele_speed)"
   ]
  },
  {
   "cell_type": "markdown",
   "metadata": {},
   "source": [
    "### 調和平均\n",
    "逆数の平均の逆数 | 算術平均が分母が同じものに対して利用されるのに対して、調和平均は分子が同じものに利用される"
   ]
  },
  {
   "cell_type": "code",
   "execution_count": 49,
   "metadata": {},
   "outputs": [
    {
     "data": {
      "text/plain": [
       "2.368421052631579"
      ]
     },
     "execution_count": 49,
     "metadata": {},
     "output_type": "execute_result"
    }
   ],
   "source": [
    "dembele_hermony = np.array([5,4,4,3,2,1])\n",
    "stats.hmean(dembele_hermony)"
   ]
  },
  {
   "cell_type": "markdown",
   "metadata": {},
   "source": [
    "## Median"
   ]
  },
  {
   "cell_type": "code",
   "execution_count": 50,
   "metadata": {},
   "outputs": [
    {
     "name": "stdout",
     "output_type": "stream",
     "text": [
      "mean is -0.00034539787067801135 (time:0.01s)\n",
      "median is -0.0005973512189016979 (time:0.21s)\n"
     ]
    }
   ],
   "source": [
    "randoms = np.random.randn(10**7)\n",
    "\n",
    "before_mean = time.time()\n",
    "\n",
    "mean = np.mean(randoms)\n",
    "\n",
    "after_mean = time.time()\n",
    "print(f'mean is {mean} (time:{after_mean - before_mean:.2f}s)')\n",
    "\n",
    "before_median = time.time()\n",
    "\n",
    "median = np.median(randoms)\n",
    "\n",
    "after_median = time.time()\n",
    "print(f'median is {median} (time:{after_median - before_median:.2f}s)')"
   ]
  },
  {
   "cell_type": "markdown",
   "metadata": {},
   "source": [
    "## Mode"
   ]
  },
  {
   "cell_type": "code",
   "execution_count": 51,
   "metadata": {},
   "outputs": [
    {
     "name": "stdout",
     "output_type": "stream",
     "text": [
      "[3]\n",
      "[6]\n"
     ]
    }
   ],
   "source": [
    "mode, count = stats.mode([1,2,3,4,3,2,1,8,7,8,9,9,3,3,3,3])\n",
    "print(mode)\n",
    "print(count)"
   ]
  },
  {
   "cell_type": "code",
   "execution_count": 44,
   "metadata": {},
   "outputs": [
    {
     "name": "stdout",
     "output_type": "stream",
     "text": [
      "[[1 2 3]]\n",
      "[[2 2 2]]\n"
     ]
    }
   ],
   "source": [
    "ndarray = np.array([[1,2,3],\n",
    "                    [1,2,3],\n",
    "                    [3,4,5]])\n",
    "mode, count = stats.mode(ndarray)\n",
    "print(mode)\n",
    "print(count)"
   ]
  },
  {
   "cell_type": "code",
   "execution_count": 53,
   "metadata": {},
   "outputs": [
    {
     "name": "stdout",
     "output_type": "stream",
     "text": [
      "IQR: 7.0\n",
      "QD: 3.5\n"
     ]
    },
    {
     "data": {
      "image/png": "[encoded data removed]",
      "text/plain": [
       "<Figure size 432x288 with 1 Axes>"
      ]
     },
     "metadata": {
      "needs_background": "light"
     },
     "output_type": "display_data"
    }
   ],
   "source": [
    "data = [1,2,3,4,5,10,9,33,19]\n",
    "iqr = stats.iqr(data)\n",
    "qd = iqr / 2\n",
    "print(f'IQR: {iqr}')\n",
    "print(f'QD: {qd}')\n",
    "\n",
    "plt.boxplot(data)\n",
    "plt.show()"
   ]
  },
  {
   "cell_type": "code",
   "execution_count": 55,
   "metadata": {},
   "outputs": [
    {
     "name": "stdout",
     "output_type": "stream",
     "text": [
      "291.84888888888884\n",
      "291.84888888888884\n"
     ]
    }
   ],
   "source": [
    "def get_variance(samples):\n",
    "    \n",
    "    mean = np.mean(samples)\n",
    "    deviations = samples - mean\n",
    "    square_deviations = deviations**2\n",
    "    sum_square_deviations = np.sum(square_deviations)\n",
    "    variance = sum_square_deviations / len(samples)\n",
    "    return variance\n",
    "\n",
    "samples = [10,3,4,5,44,4,11,33,22,56,34,1,4,0,7] \n",
    "print(get_variance(samples))\n",
    "print(np.var(samples))"
   ]
  },
  {
   "cell_type": "code",
   "execution_count": 59,
   "metadata": {},
   "outputs": [
    {
     "name": "stdout",
     "output_type": "stream",
     "text": [
      "17.08358536399455\n",
      "17.08358536399455\n"
     ]
    }
   ],
   "source": [
    "print(np.sqrt(get_variance(samples)))\n",
    "print(np.std(samples))"
   ]
  },
  {
   "cell_type": "code",
   "execution_count": 74,
   "metadata": {},
   "outputs": [
    {
     "name": "stdout",
     "output_type": "stream",
     "text": [
      "number variance is 226.15234375\n",
      "number variance is 1.5555555555555554\n"
     ]
    }
   ],
   "source": [
    "number = [1,2,3,4,5,6,7,8,9,0,21,31,41,5,1,51]\n",
    "samples = np.random.choice(number, size=3)\n",
    "number_variance = np.var(number)\n",
    "samples_variance = np.var(samples)\n",
    "print(f'number variance is {number_variance}')\n",
    "print(f'number variance is {samples_variance}')"
   ]
  },
  {
   "cell_type": "code",
   "execution_count": 80,
   "metadata": {},
   "outputs": [
    {
     "data": {
      "text/plain": [
       "<matplotlib.axes._subplots.AxesSubplot at 0x7f9549f00d90>"
      ]
     },
     "execution_count": 80,
     "metadata": {},
     "output_type": "execute_result"
    },
    {
     "data": {
      "image/png": "[encoded data removed]",
      "text/plain": [
       "<Figure size 432x288 with 1 Axes>"
      ]
     },
     "metadata": {
      "needs_background": "light"
     },
     "output_type": "display_data"
    }
   ],
   "source": [
    "sns.distplot(np.random.randn(int(1e4)), bins=30)"
   ]
  },
  {
   "cell_type": "code",
   "execution_count": null,
   "metadata": {},
   "outputs": [],
   "source": []
  },
  {
   "cell_type": "code",
   "execution_count": null,
   "metadata": {},
   "outputs": [],
   "source": []
  },
  {
   "cell_type": "code",
   "execution_count": null,
   "metadata": {},
   "outputs": [],
   "source": []
  },
  {
   "cell_type": "code",
   "execution_count": null,
   "metadata": {},
   "outputs": [],
   "source": []
  }
 ],
 "metadata": {
  "kernelspec": {
   "display_name": "Python 3",
   "language": "python",
   "name": "python3"
  },
  "language_info": {
   "codemirror_mode": {
    "name": "ipython",
    "version": 3
   },
   "file_extension": ".py",
   "mimetype": "text/x-python",
   "name": "python",
   "nbconvert_exporter": "python",
   "pygments_lexer": "ipython3",
   "version": "3.7.4"
  }
 },
 "nbformat": 4,
 "nbformat_minor": 4
}
