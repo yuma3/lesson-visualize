{
 "cells": [
  {
   "cell_type": "markdown",
   "metadata": {},
   "source": [
    "## Unviased Variance(不偏推定量)"
   ]
  },
  {
   "cell_type": "code",
   "execution_count": 28,
   "metadata": {},
   "outputs": [],
   "source": [
    "import numpy as np\n",
    "import pandas as pd\n",
    "import matplotlib.pyplot as plt\n",
    "import seaborn as sns\n"
   ]
  },
  {
   "cell_type": "code",
   "execution_count": 15,
   "metadata": {},
   "outputs": [
    {
     "name": "stdout",
     "output_type": "stream",
     "text": [
      "population mean is 18.416666666666668\n",
      "samples:20.4\n",
      "18.34252\n"
     ]
    }
   ],
   "source": [
    "population = np.array([1,2,3,4,5,5,55,6,65,43,21,11])\n",
    "samples = np.random.choice(population, size=5)\n",
    "mean = np.mean(population)\n",
    "sample_mean = np.mean(samples)\n",
    "print(f'population mean is {mean}')\n",
    "print(f'samples:{sample_mean}')\n",
    "\n",
    "sample_mean_list = []\n",
    "count = 10000\n",
    "for i in range(count):\n",
    "    samples = np.random.choice(population, size=5)\n",
    "    sample_mean = np.mean(samples)\n",
    "    sample_mean_list.append(sample_mean)\n",
    "sample_mean_mean = np.mean(sample_mean_list)\n",
    "print(sample_mean_mean)"
   ]
  },
  {
   "cell_type": "code",
   "execution_count": 20,
   "metadata": {},
   "outputs": [
    {
     "name": "stdout",
     "output_type": "stream",
     "text": [
      "380.16373600000003\n",
      "380.21191600000003\n",
      "475.57638888888874\n"
     ]
    }
   ],
   "source": [
    "population = np.array([1,2,3,4,5,5,55,6,65,43,21,11])\n",
    "\n",
    "sample_veriance_list = []\n",
    "for i in range(10000):\n",
    "    samples = np.random.choice(population, size=5)\n",
    "    sample_var = np.var(samples)\n",
    "    sample_veriance_list.append(sample_var)\n",
    "sample_variance_mean = np.mean(sample_veriance_list)\n",
    "print(sample_variance_mean)\n",
    "\n",
    "for i in range(10000):\n",
    "    samples = np.random.choice(population, size=5)\n",
    "    sample_var = samples.var()\n",
    "    sample_veriance_list.append(sample_var)\n",
    "sample_variance_mean = np.mean(sample_veriance_list)\n",
    "print(sample_variance_mean)\n",
    "print(np.var(population))"
   ]
  },
  {
   "cell_type": "code",
   "execution_count": 37,
   "metadata": {},
   "outputs": [
    {
     "name": "stdout",
     "output_type": "stream",
     "text": [
      "100% of the numbers are included within mean±2std\n"
     ]
    }
   ],
   "source": [
    "randoms = np.random.rand(1000)\n",
    "mean = np.mean(randoms)\n",
    "std = np.std(randoms)\n",
    "count = 0 \n",
    "coef = 2\n",
    "thresh = coef * std\n",
    "for num in randoms:\n",
    "    if num > mean - thresh and num < mean + thresh:\n",
    "        count+=1\n",
    "print('{}% of the numbers are included within mean±{}std'.format(int(count/len(randoms)*100), coef))"
   ]
  },
  {
   "cell_type": "code",
   "execution_count": 38,
   "metadata": {},
   "outputs": [
    {
     "data": {
      "text/plain": [
       "<matplotlib.legend.Legend at 0x7f6dc35e07d0>"
      ]
     },
     "execution_count": 38,
     "metadata": {},
     "output_type": "execute_result"
    },
    {
     "data": {
      "image/png": "[encoded data removed]",
      "text/plain": [
       "<Figure size 432x288 with 1 Axes>"
      ]
     },
     "metadata": {
      "needs_background": "light"
     },
     "output_type": "display_data"
    }
   ],
   "source": [
    "sns.distplot(randoms)\n",
    "plt.vlines(mean, 0, 1, 'r', label='mean')\n",
    "plt.vlines(mean+coef*std, 0, 1, 'b', label='±{}std'.format(coef))\n",
    "plt.vlines(mean-coef*std, 0, 1, 'b')\n",
    "plt.legend()"
   ]
  },
  {
   "cell_type": "code",
   "execution_count": null,
   "metadata": {},
   "outputs": [],
   "source": []
  }
 ],
 "metadata": {
  "kernelspec": {
   "display_name": "Python 3",
   "language": "python",
   "name": "python3"
  },
  "language_info": {
   "codemirror_mode": {
    "name": "ipython",
    "version": 3
   },
   "file_extension": ".py",
   "mimetype": "text/x-python",
   "name": "python",
   "nbconvert_exporter": "python",
   "pygments_lexer": "ipython3",
   "version": "3.7.4"
  }
 },
 "nbformat": 4,
 "nbformat_minor": 4
}
