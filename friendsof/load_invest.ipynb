{
 "cells": [
  {
   "cell_type": "markdown",
   "metadata": {},
   "source": [
    "# Loading in and investigating World Cup data in Python"
   ]
  },
  {
   "cell_type": "markdown",
   "metadata": {},
   "source": [
    "## Loading json file"
   ]
  },
  {
   "cell_type": "code",
   "execution_count": 11,
   "metadata": {},
   "outputs": [],
   "source": [
    "import json\n",
    "import numpy as np\n",
    "import pandas as pd\n",
    "import matplotlib.pyplot as plt"
   ]
  },
  {
   "cell_type": "code",
   "execution_count": 12,
   "metadata": {},
   "outputs": [],
   "source": [
    "competition_id = 43\n",
    "with open('/work/friendsof/assets/open-data-master/data/matches/'+str(competition_id)+'/3.json')as f:\n",
    "   matches= json.load(f)\n",
    "# matches[:2]"
   ]
  },
  {
   "cell_type": "code",
   "execution_count": 13,
   "metadata": {},
   "outputs": [],
   "source": [
    "for match in matches:\n",
    "    home_team_name=match['home_team']['home_team_name']\n",
    "    away_team_name=match['away_team']['away_team_name']\n",
    "    home_score=match['home_score']\n",
    "    away_score=match['away_score']\n",
    "    describe_text='The match between ' + home_team_name + ' and ' + away_team_name\n",
    "    result_text = ' finished ' + str(home_score) + ' : ' + str(away_score)\n",
    "#     print(describe_text + result_text)"
   ]
  },
  {
   "cell_type": "code",
   "execution_count": 14,
   "metadata": {},
   "outputs": [
    {
     "name": "stdout",
     "output_type": "stream",
     "text": [
      "[7545, 7580, 7531, 7564]\n"
     ]
    }
   ],
   "source": [
    "home_team_required =\"Argentina\"\n",
    "away_team_required =\"Argentina\"\n",
    "\n",
    "#Find ID for the match\n",
    "argen_list = []\n",
    "for match in matches:\n",
    "    home_team_name=match['home_team']['home_team_name']\n",
    "    away_team_name=match['away_team']['away_team_name']\n",
    "    if (home_team_name==home_team_required) or (away_team_name==away_team_required):\n",
    "        argen_list.append(match['match_id'])\n",
    "print(argen_list)"
   ]
  },
  {
   "cell_type": "code",
   "execution_count": 16,
   "metadata": {},
   "outputs": [
    {
     "name": "stdout",
     "output_type": "stream",
     "text": [
      "[7545, 7580, 7531, 7564]\n"
     ]
    }
   ],
   "source": [
    "argen_list = []\n",
    "for match in matches:\n",
    "    home_team_name=match['home_team']['home_team_name']\n",
    "    away_team_name=match['away_team']['away_team_name']\n",
    "    if (home_team_name==home_team_required) or (away_team_name==away_team_required):\n",
    "        argen_list.append(match['match_id'])\n",
    "\n",
    "    \n",
    "print(argen_list)"
   ]
  },
  {
   "cell_type": "code",
   "execution_count": 7,
   "metadata": {},
   "outputs": [],
   "source": [
    "result = []\n",
    "for match in matches:\n",
    "    for i in range(len(argen_list)):\n",
    "        if match['match_id']==argen_list[i]:\n",
    "            result.append(match)"
   ]
  },
  {
   "cell_type": "code",
   "execution_count": 8,
   "metadata": {},
   "outputs": [
    {
     "data": {
      "text/html": [
       "<div>\n",
       "<style scoped>\n",
       "    .dataframe tbody tr th:only-of-type {\n",
       "        vertical-align: middle;\n",
       "    }\n",
       "\n",
       "    .dataframe tbody tr th {\n",
       "        vertical-align: top;\n",
       "    }\n",
       "\n",
       "    .dataframe thead th {\n",
       "        text-align: right;\n",
       "    }\n",
       "</style>\n",
       "<table border=\"1\" class=\"dataframe\">\n",
       "  <thead>\n",
       "    <tr style=\"text-align: right;\">\n",
       "      <th></th>\n",
       "      <th>match_id</th>\n",
       "      <th>match_date</th>\n",
       "      <th>kick_off</th>\n",
       "      <th>competition</th>\n",
       "      <th>season</th>\n",
       "      <th>home_team</th>\n",
       "      <th>away_team</th>\n",
       "      <th>home_score</th>\n",
       "      <th>away_score</th>\n",
       "      <th>match_status</th>\n",
       "      <th>last_updated</th>\n",
       "      <th>metadata</th>\n",
       "      <th>match_week</th>\n",
       "      <th>competition_stage</th>\n",
       "      <th>stadium</th>\n",
       "      <th>referee</th>\n",
       "    </tr>\n",
       "  </thead>\n",
       "  <tbody>\n",
       "    <tr>\n",
       "      <td>0</td>\n",
       "      <td>7545</td>\n",
       "      <td>2018-06-21</td>\n",
       "      <td>20:00:00.000</td>\n",
       "      <td>{'competition_id': 43, 'country_name': 'Intern...</td>\n",
       "      <td>{'season_id': 3, 'season_name': '2018'}</td>\n",
       "      <td>{'home_team_id': 779, 'home_team_name': 'Argen...</td>\n",
       "      <td>{'away_team_id': 785, 'away_team_name': 'Croat...</td>\n",
       "      <td>0</td>\n",
       "      <td>3</td>\n",
       "      <td>available</td>\n",
       "      <td>2020-07-29T05:00</td>\n",
       "      <td>{'data_version': '1.0.2'}</td>\n",
       "      <td>2</td>\n",
       "      <td>{'id': 10, 'name': 'Group Stage'}</td>\n",
       "      <td>{'id': 4263, 'name': 'Stadion Nizhny Novgorod'...</td>\n",
       "      <td>{'id': 735, 'name': 'R. Irmatov'}</td>\n",
       "    </tr>\n",
       "    <tr>\n",
       "      <td>1</td>\n",
       "      <td>7580</td>\n",
       "      <td>2018-06-30</td>\n",
       "      <td>21:00:00.000</td>\n",
       "      <td>{'competition_id': 43, 'country_name': 'Intern...</td>\n",
       "      <td>{'season_id': 3, 'season_name': '2018'}</td>\n",
       "      <td>{'home_team_id': 771, 'home_team_name': 'Franc...</td>\n",
       "      <td>{'away_team_id': 779, 'away_team_name': 'Argen...</td>\n",
       "      <td>4</td>\n",
       "      <td>3</td>\n",
       "      <td>available</td>\n",
       "      <td>2020-07-29T05:00</td>\n",
       "      <td>{'data_version': '1.0.2'}</td>\n",
       "      <td>4</td>\n",
       "      <td>{'id': 33, 'name': 'Round of 16'}</td>\n",
       "      <td>NaN</td>\n",
       "      <td>NaN</td>\n",
       "    </tr>\n",
       "    <tr>\n",
       "      <td>2</td>\n",
       "      <td>7531</td>\n",
       "      <td>2018-06-16</td>\n",
       "      <td>15:00:00.000</td>\n",
       "      <td>{'competition_id': 43, 'country_name': 'Intern...</td>\n",
       "      <td>{'season_id': 3, 'season_name': '2018'}</td>\n",
       "      <td>{'home_team_id': 779, 'home_team_name': 'Argen...</td>\n",
       "      <td>{'away_team_id': 793, 'away_team_name': 'Icela...</td>\n",
       "      <td>1</td>\n",
       "      <td>1</td>\n",
       "      <td>available</td>\n",
       "      <td>2020-07-29T05:00</td>\n",
       "      <td>{'data_version': '1.0.2'}</td>\n",
       "      <td>1</td>\n",
       "      <td>{'id': 10, 'name': 'Group Stage'}</td>\n",
       "      <td>{'id': 4130, 'name': 'Otkrytiye Arena', 'count...</td>\n",
       "      <td>{'id': 367, 'name': 'S. Marciniak', 'country':...</td>\n",
       "    </tr>\n",
       "    <tr>\n",
       "      <td>3</td>\n",
       "      <td>7564</td>\n",
       "      <td>2018-06-26</td>\n",
       "      <td>20:00:00.000</td>\n",
       "      <td>{'competition_id': 43, 'country_name': 'Intern...</td>\n",
       "      <td>{'season_id': 3, 'season_name': '2018'}</td>\n",
       "      <td>{'home_team_id': 775, 'home_team_name': 'Niger...</td>\n",
       "      <td>{'away_team_id': 779, 'away_team_name': 'Argen...</td>\n",
       "      <td>1</td>\n",
       "      <td>2</td>\n",
       "      <td>available</td>\n",
       "      <td>2020-07-29T05:00</td>\n",
       "      <td>{'data_version': '1.0.2'}</td>\n",
       "      <td>3</td>\n",
       "      <td>{'id': 10, 'name': 'Group Stage'}</td>\n",
       "      <td>{'id': 4726, 'name': 'Saint-Petersburg Stadium...</td>\n",
       "      <td>{'id': 581, 'name': 'C. Çakιr', 'country': {'i...</td>\n",
       "    </tr>\n",
       "  </tbody>\n",
       "</table>\n",
       "</div>"
      ],
      "text/plain": [
       "   match_id  match_date      kick_off  \\\n",
       "0      7545  2018-06-21  20:00:00.000   \n",
       "1      7580  2018-06-30  21:00:00.000   \n",
       "2      7531  2018-06-16  15:00:00.000   \n",
       "3      7564  2018-06-26  20:00:00.000   \n",
       "\n",
       "                                         competition  \\\n",
       "0  {'competition_id': 43, 'country_name': 'Intern...   \n",
       "1  {'competition_id': 43, 'country_name': 'Intern...   \n",
       "2  {'competition_id': 43, 'country_name': 'Intern...   \n",
       "3  {'competition_id': 43, 'country_name': 'Intern...   \n",
       "\n",
       "                                    season  \\\n",
       "0  {'season_id': 3, 'season_name': '2018'}   \n",
       "1  {'season_id': 3, 'season_name': '2018'}   \n",
       "2  {'season_id': 3, 'season_name': '2018'}   \n",
       "3  {'season_id': 3, 'season_name': '2018'}   \n",
       "\n",
       "                                           home_team  \\\n",
       "0  {'home_team_id': 779, 'home_team_name': 'Argen...   \n",
       "1  {'home_team_id': 771, 'home_team_name': 'Franc...   \n",
       "2  {'home_team_id': 779, 'home_team_name': 'Argen...   \n",
       "3  {'home_team_id': 775, 'home_team_name': 'Niger...   \n",
       "\n",
       "                                           away_team  home_score  away_score  \\\n",
       "0  {'away_team_id': 785, 'away_team_name': 'Croat...           0           3   \n",
       "1  {'away_team_id': 779, 'away_team_name': 'Argen...           4           3   \n",
       "2  {'away_team_id': 793, 'away_team_name': 'Icela...           1           1   \n",
       "3  {'away_team_id': 779, 'away_team_name': 'Argen...           1           2   \n",
       "\n",
       "  match_status      last_updated                   metadata  match_week  \\\n",
       "0    available  2020-07-29T05:00  {'data_version': '1.0.2'}           2   \n",
       "1    available  2020-07-29T05:00  {'data_version': '1.0.2'}           4   \n",
       "2    available  2020-07-29T05:00  {'data_version': '1.0.2'}           1   \n",
       "3    available  2020-07-29T05:00  {'data_version': '1.0.2'}           3   \n",
       "\n",
       "                   competition_stage  \\\n",
       "0  {'id': 10, 'name': 'Group Stage'}   \n",
       "1  {'id': 33, 'name': 'Round of 16'}   \n",
       "2  {'id': 10, 'name': 'Group Stage'}   \n",
       "3  {'id': 10, 'name': 'Group Stage'}   \n",
       "\n",
       "                                             stadium  \\\n",
       "0  {'id': 4263, 'name': 'Stadion Nizhny Novgorod'...   \n",
       "1                                                NaN   \n",
       "2  {'id': 4130, 'name': 'Otkrytiye Arena', 'count...   \n",
       "3  {'id': 4726, 'name': 'Saint-Petersburg Stadium...   \n",
       "\n",
       "                                             referee  \n",
       "0                  {'id': 735, 'name': 'R. Irmatov'}  \n",
       "1                                                NaN  \n",
       "2  {'id': 367, 'name': 'S. Marciniak', 'country':...  \n",
       "3  {'id': 581, 'name': 'C. Çakιr', 'country': {'i...  "
      ]
     },
     "execution_count": 8,
     "metadata": {},
     "output_type": "execute_result"
    }
   ],
   "source": [
    "pd.DataFrame(result)"
   ]
  },
  {
   "cell_type": "code",
   "execution_count": null,
   "metadata": {},
   "outputs": [],
   "source": []
  }
 ],
 "metadata": {
  "kernelspec": {
   "display_name": "Python 3",
   "language": "python",
   "name": "python3"
  },
  "language_info": {
   "codemirror_mode": {
    "name": "ipython",
    "version": 3
   },
   "file_extension": ".py",
   "mimetype": "text/x-python",
   "name": "python",
   "nbconvert_exporter": "python",
   "pygments_lexer": "ipython3",
   "version": "3.7.4"
  }
 },
 "nbformat": 4,
 "nbformat_minor": 4
}
